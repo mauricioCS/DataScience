{
 "cells": [
  {
   "cell_type": "markdown",
   "metadata": {},
   "source": [
    "# Prática V\n",
    "\n",
    "Eduardo Garcia Misiuk - 9293230 \n",
    "Mauricio Caetano da Silva - 9040996\n",
    "\n",
    "Datasets escolhidos: Titanic"
   ]
  },
  {
   "cell_type": "markdown",
   "metadata": {},
   "source": [
    "# Titanic"
   ]
  },
  {
   "cell_type": "markdown",
   "metadata": {},
   "source": [
    "### Carregando os dados"
   ]
  },
  {
   "cell_type": "code",
   "execution_count": 136,
   "metadata": {
    "scrolled": true
   },
   "outputs": [
    {
     "data": {
      "text/html": [
       "<div>\n",
       "<style scoped>\n",
       "    .dataframe tbody tr th:only-of-type {\n",
       "        vertical-align: middle;\n",
       "    }\n",
       "\n",
       "    .dataframe tbody tr th {\n",
       "        vertical-align: top;\n",
       "    }\n",
       "\n",
       "    .dataframe thead th {\n",
       "        text-align: right;\n",
       "    }\n",
       "</style>\n",
       "<table border=\"1\" class=\"dataframe\">\n",
       "  <thead>\n",
       "    <tr style=\"text-align: right;\">\n",
       "      <th></th>\n",
       "      <th>Survived</th>\n",
       "      <th>Pclass</th>\n",
       "      <th>Age</th>\n",
       "      <th>SibSp</th>\n",
       "      <th>Parch</th>\n",
       "      <th>Fare</th>\n",
       "    </tr>\n",
       "  </thead>\n",
       "  <tbody>\n",
       "    <tr>\n",
       "      <th>0</th>\n",
       "      <td>0</td>\n",
       "      <td>3</td>\n",
       "      <td>22.0</td>\n",
       "      <td>1</td>\n",
       "      <td>0</td>\n",
       "      <td>7.2500</td>\n",
       "    </tr>\n",
       "    <tr>\n",
       "      <th>1</th>\n",
       "      <td>1</td>\n",
       "      <td>1</td>\n",
       "      <td>38.0</td>\n",
       "      <td>1</td>\n",
       "      <td>0</td>\n",
       "      <td>71.2833</td>\n",
       "    </tr>\n",
       "    <tr>\n",
       "      <th>2</th>\n",
       "      <td>1</td>\n",
       "      <td>3</td>\n",
       "      <td>26.0</td>\n",
       "      <td>0</td>\n",
       "      <td>0</td>\n",
       "      <td>7.9250</td>\n",
       "    </tr>\n",
       "    <tr>\n",
       "      <th>3</th>\n",
       "      <td>1</td>\n",
       "      <td>1</td>\n",
       "      <td>35.0</td>\n",
       "      <td>1</td>\n",
       "      <td>0</td>\n",
       "      <td>53.1000</td>\n",
       "    </tr>\n",
       "    <tr>\n",
       "      <th>4</th>\n",
       "      <td>0</td>\n",
       "      <td>3</td>\n",
       "      <td>35.0</td>\n",
       "      <td>0</td>\n",
       "      <td>0</td>\n",
       "      <td>8.0500</td>\n",
       "    </tr>\n",
       "    <tr>\n",
       "      <th>5</th>\n",
       "      <td>0</td>\n",
       "      <td>3</td>\n",
       "      <td>NaN</td>\n",
       "      <td>0</td>\n",
       "      <td>0</td>\n",
       "      <td>8.4583</td>\n",
       "    </tr>\n",
       "    <tr>\n",
       "      <th>6</th>\n",
       "      <td>0</td>\n",
       "      <td>1</td>\n",
       "      <td>54.0</td>\n",
       "      <td>0</td>\n",
       "      <td>0</td>\n",
       "      <td>51.8625</td>\n",
       "    </tr>\n",
       "    <tr>\n",
       "      <th>7</th>\n",
       "      <td>0</td>\n",
       "      <td>3</td>\n",
       "      <td>2.0</td>\n",
       "      <td>3</td>\n",
       "      <td>1</td>\n",
       "      <td>21.0750</td>\n",
       "    </tr>\n",
       "    <tr>\n",
       "      <th>8</th>\n",
       "      <td>1</td>\n",
       "      <td>3</td>\n",
       "      <td>27.0</td>\n",
       "      <td>0</td>\n",
       "      <td>2</td>\n",
       "      <td>11.1333</td>\n",
       "    </tr>\n",
       "    <tr>\n",
       "      <th>9</th>\n",
       "      <td>1</td>\n",
       "      <td>2</td>\n",
       "      <td>14.0</td>\n",
       "      <td>1</td>\n",
       "      <td>0</td>\n",
       "      <td>30.0708</td>\n",
       "    </tr>\n",
       "  </tbody>\n",
       "</table>\n",
       "</div>"
      ],
      "text/plain": [
       "   Survived  Pclass   Age  SibSp  Parch     Fare\n",
       "0         0       3  22.0      1      0   7.2500\n",
       "1         1       1  38.0      1      0  71.2833\n",
       "2         1       3  26.0      0      0   7.9250\n",
       "3         1       1  35.0      1      0  53.1000\n",
       "4         0       3  35.0      0      0   8.0500\n",
       "5         0       3   NaN      0      0   8.4583\n",
       "6         0       1  54.0      0      0  51.8625\n",
       "7         0       3   2.0      3      1  21.0750\n",
       "8         1       3  27.0      0      2  11.1333\n",
       "9         1       2  14.0      1      0  30.0708"
      ]
     },
     "execution_count": 136,
     "metadata": {},
     "output_type": "execute_result"
    }
   ],
   "source": [
    "import pandas as pd\n",
    "import numpy as np\n",
    "from matplotlib import pyplot as plt\n",
    "\n",
    "att = ['Survived','Pclass','Age','SibSp','Parch','Fare']\n",
    "titanic = pd.read_csv('titanic.csv', usecols=att)\n",
    "\n",
    "separator = \"\\n============================================================================================================\\n\"\n",
    "columns = titanic.columns.tolist()\n",
    "\n",
    "titanic.head(n=10)\n",
    "\n"
   ]
  },
  {
   "cell_type": "markdown",
   "metadata": {},
   "source": [
    "### Algoritmo de classificação"
   ]
  },
  {
   "cell_type": "code",
   "execution_count": 137,
   "metadata": {},
   "outputs": [],
   "source": [
    "from sklearn.svm import SVC, SVR\n",
    "from sklearn.tree import DecisionTreeClassifier, DecisionTreeRegressor\n",
    "from sklearn.neighbors import KNeighborsClassifier, KNeighborsRegressor\n",
    "\n",
    "from sklearn.model_selection import KFold\n",
    "from sklearn.metrics import mean_squared_error\n",
    "from numpy import mean, std\n",
    "\n",
    "\n",
    "def classificacao(data, columns, target, weights):\n",
    "    \"\"\"\n",
    "    Executa classificação do conjunto de dados passado\n",
    "    ---------------------------------------------------------------\n",
    "    data:       DataFrame. Conjunto de dados\n",
    "    columns:    Lista de inteiros. Índice das colunas utilizadas no treinamento e teste\n",
    "    target:     Inteiro. Índice da coluna alvo\n",
    "    weights:    Dicionário. Pesos das classes, cada chave do dicionário é a classe e seu valor a probabilidade\n",
    "    ---------------------------------------------------------------\n",
    "    Realiza a classificação em 3 modelos (SVM com kernel linear, \n",
    "    SVM com kernel polinomial de grau 3, Árvore de decisão)\n",
    "    Plot o gráfico de desempenho para cada classificador.\n",
    "    Retorna um dicionário com os classificadores treinados e as medidas de desempenho\n",
    "    \"\"\"\n",
    "    \n",
    "    # inicializa os modelos com os parâmetros solicitados\n",
    "    svm_l = SVC(C=10*len(data), kernel='linear', cache_size=500, max_iter=1e6, class_weight=weights)\n",
    "    svm_n = SVC(C=10*len(data), kernel='poly', degree=3, gamma=1, coef0=1, cache_size=500, max_iter=1e6, class_weight=weights)\n",
    "    dt = DecisionTreeClassifier(criterion='gini', splitter='best', min_samples_split=int(len(data)*0.1), class_weight=weights)\n",
    "    \n",
    "    clfs = [svm_l, svm_n, dt]\n",
    "    clfs_names = ['svm_linear', 'svm_poly', 'dt']\n",
    "    \n",
    "    # prepara validação cruzada\n",
    "    # faz divisão do dataset em 5 partes\n",
    "    cv = KFold(n_splits=5, shuffle=True)\n",
    "    \n",
    "    # itera para cada classificador fazendo treino e teste\n",
    "    results = {'svm_linear':[], 'svm_poly':[], 'dt':[]}\n",
    "    for c, c_name in zip(clfs, clfs_names):\n",
    "        for train_index, test_index in cv.split(data):\n",
    "            \n",
    "            # separa conjunto de treino e de teste\n",
    "            x_train, y_train = data.iloc[train_index, columns], data.iloc[train_index, target]\n",
    "            x_test, y_test = data.iloc[test_index, columns], data.iloc[test_index, target]\n",
    "            \n",
    "            # faz o treino do modelo\n",
    "            clf = c.fit(X=x_train, y=y_train)\n",
    "            \n",
    "            # realiza predição no conjunto de teste e salva o resultado\n",
    "            results[c_name].append( clf.score(x_test, y_test) )\n",
    "    \n",
    "    # faz o plot de desempenho dos classificadores\n",
    "    plt.figure(figsize=(8,8))\n",
    "    plt.bar(range(1, len(clfs)+1), [mean(results[name]) for name in clfs_names], \n",
    "                                yerr=[std(results[name]) for name in clfs_names])\n",
    "    plt.xticks(range(1, len(clfs)+1), clfs_names, rotation=45)\n",
    "    title = 'Desempenho dos classificadores - acurácia'\n",
    "    plt.title(title)\n",
    "    plt.show()\n",
    "    \n",
    "    return {'results': results, 'clfs':clfs}"
   ]
  },
  {
   "cell_type": "markdown",
   "metadata": {},
   "source": [
    "### Questão 1\n",
    "\n",
    "**O desbalanceamento, em geral, causa problemas para a classificação. Trate o desbalanceamento utilizando as abordagens de subamostragem, superamostragem. Mostre a distribuição das classes após o balanceamento.**\n",
    "\n",
    "**Para realizar a subamostragem e a superamostragem chame a função sample do DataFrame. Abaixo tem um exemplo de como utilizar essa função. Utilize a função classificação definida abaixo ajustando o parâmetro weights para um valor que você ache adequado. Esse parâmetro faz com que o algoritmo de classificação leve em conta o peso da classe no processo de treinamento.**\n",
    "\n",
    "**Utilize 2 valores de weights diferentes e comente o resultado (o que você acha que mudou com esses valores diferentes de weights).**"
   ]
  },
  {
   "cell_type": "code",
   "execution_count": 33,
   "metadata": {},
   "outputs": [
    {
     "name": "stdout",
     "output_type": "stream",
     "text": [
      "Distribuição de classes original\n",
      "Survived\n",
      "0    424\n",
      "1    290\n",
      "Name: Survived, dtype: int64\n"
     ]
    }
   ],
   "source": [
    "# O algoritmo não roda com valores NaN, portanto precisamos primeiro tirá-los\n",
    "clean = titanic.dropna()\n",
    "\n",
    "print('Distribuição de classes original')\n",
    "print(clean.iloc[:, 0].groupby(clean.iloc[:, 0]).count())"
   ]
  },
  {
   "cell_type": "code",
   "execution_count": 34,
   "metadata": {
    "scrolled": true
   },
   "outputs": [
    {
     "name": "stdout",
     "output_type": "stream",
     "text": [
      "Survived\n",
      "0    303\n",
      "1    411\n",
      "Name: Survived, dtype: int64\n",
      "\n",
      "============================================================================================================\n",
      "\n",
      "Survived\n",
      "0    530\n",
      "1    184\n",
      "Name: Survived, dtype: int64\n",
      "\n",
      "============================================================================================================\n",
      "\n",
      "Survived\n",
      "0    290\n",
      "1    290\n",
      "Name: Survived, dtype: int64\n"
     ]
    }
   ],
   "source": [
    "# Numero total de instancias\n",
    "n = clean.count()[0]\n",
    "\n",
    "# Como foi verificado no snippet anterior, há mais valores 0 do que 1 na classe Survived\n",
    "# O primeiro sample terá mais instâncias com classe 1\n",
    "# O segundo sample terá mais instâncias com classe 0\n",
    "# O terceiro será totalmente balanceado\n",
    "\n",
    "# Probabilidades\n",
    "probs1 = {0: 1/3, 1: 2/3}\n",
    "probs2 = {0: 2/3, 1: 1/3}\n",
    "# Probabilidades na matriz\n",
    "sp1 = clean.iloc[:, 0].copy()\n",
    "sp2 = clean.iloc[:, 0].copy()\n",
    "\n",
    "# Mais classe 1\n",
    "for c in sp1.unique():\n",
    "    sp1[sp1 == c] = probs1[c]\n",
    "s1 = clean.sample(frac=1, replace=True, axis=0, weights=sp1)\n",
    "print(s1.iloc[:, 0].groupby(s1.iloc[:, 0]).count())\n",
    "print(separator)\n",
    "\n",
    "# Mais classe 0\n",
    "for c in sp2.unique():\n",
    "    sp2[sp2 == c] = probs2[c]\n",
    "s2 = clean.sample(frac=1, replace=True, axis=0, weights=sp2)\n",
    "print(s2.iloc[:, 0].groupby(s2.iloc[:, 0]).count())\n",
    "print(separator)\n",
    "\n",
    "# Número igual de cada classe (no caso, pegamos o máximo que pudemos, que é 342)\n",
    "s3 = [clean.loc[clean.iloc[:, 0] == c].sample(n=290, replace=True) for c in clean.iloc[:, 0].unique()]\n",
    "s3 = pd.concat(s3)\n",
    "print(s3.iloc[:, 0].groupby(s3.iloc[:, 0]).count())"
   ]
  },
  {
   "cell_type": "code",
   "execution_count": 38,
   "metadata": {
    "scrolled": false
   },
   "outputs": [
    {
     "name": "stderr",
     "output_type": "stream",
     "text": [
      "/home/misiuk/anaconda3/lib/python3.6/site-packages/sklearn/svm/base.py:218: ConvergenceWarning: Solver terminated early (max_iter=1000000).  Consider pre-processing your data with StandardScaler or MinMaxScaler.\n",
      "  % self.max_iter, ConvergenceWarning)\n"
     ]
    },
    {
     "data": {
      "image/png": "[encoded data removed]",
      "text/plain": [
       "<Figure size 576x576 with 1 Axes>"
      ]
     },
     "metadata": {},
     "output_type": "display_data"
    }
   ],
   "source": [
    "cols = range(1,6)\n",
    "c1 = classificacao(clean, cols, 0, weights={0:1/3, 1:2/3})"
   ]
  },
  {
   "cell_type": "code",
   "execution_count": 39,
   "metadata": {
    "scrolled": false
   },
   "outputs": [
    {
     "name": "stderr",
     "output_type": "stream",
     "text": [
      "/home/misiuk/anaconda3/lib/python3.6/site-packages/sklearn/svm/base.py:218: ConvergenceWarning: Solver terminated early (max_iter=1000000).  Consider pre-processing your data with StandardScaler or MinMaxScaler.\n",
      "  % self.max_iter, ConvergenceWarning)\n"
     ]
    },
    {
     "data": {
      "image/png": "[encoded data removed]",
      "text/plain": [
       "<Figure size 576x576 with 1 Axes>"
      ]
     },
     "metadata": {},
     "output_type": "display_data"
    }
   ],
   "source": [
    "c2 = classificacao(clean, cols, 0, weights={0:2/3, 1:1/3})"
   ]
  },
  {
   "cell_type": "code",
   "execution_count": 40,
   "metadata": {
    "scrolled": false
   },
   "outputs": [
    {
     "name": "stderr",
     "output_type": "stream",
     "text": [
      "/home/misiuk/anaconda3/lib/python3.6/site-packages/sklearn/svm/base.py:218: ConvergenceWarning: Solver terminated early (max_iter=1000000).  Consider pre-processing your data with StandardScaler or MinMaxScaler.\n",
      "  % self.max_iter, ConvergenceWarning)\n"
     ]
    },
    {
     "data": {
      "image/png": "[encoded data removed]",
      "text/plain": [
       "<Figure size 576x576 with 1 Axes>"
      ]
     },
     "metadata": {},
     "output_type": "display_data"
    }
   ],
   "source": [
    "c3 = classificacao(clean, cols, 0, weights={0:1/5, 1:4/5})"
   ]
  },
  {
   "cell_type": "code",
   "execution_count": 41,
   "metadata": {
    "scrolled": false
   },
   "outputs": [
    {
     "name": "stderr",
     "output_type": "stream",
     "text": [
      "/home/misiuk/anaconda3/lib/python3.6/site-packages/sklearn/svm/base.py:218: ConvergenceWarning: Solver terminated early (max_iter=1000000).  Consider pre-processing your data with StandardScaler or MinMaxScaler.\n",
      "  % self.max_iter, ConvergenceWarning)\n"
     ]
    },
    {
     "data": {
      "image/png": "[encoded data removed]",
      "text/plain": [
       "<Figure size 576x576 with 1 Axes>"
      ]
     },
     "metadata": {},
     "output_type": "display_data"
    }
   ],
   "source": [
    "c4 = classificacao(clean, cols, 0, weights={0:4/5, 1:1/5})"
   ]
  },
  {
   "cell_type": "markdown",
   "metadata": {},
   "source": [
    "Discorreremos brevemente sobre os resultados de cada algoritmo.\n",
    "- svm_linear: os pesos não muito diferentes entre si não piorou o resultado da classificação, mas quando os pesos diferiam mais, obtivemos os piores resultados.\n",
    "- svm_poly: não houve uma grande diferença entre os resultados, sendo o último o pior resultado.\n",
    "- dt: pesos com valores mais próximos resultaram em melhores resultados, sendo este o algoritmo que melhor classificou os dados."
   ]
  },
  {
   "cell_type": "markdown",
   "metadata": {},
   "source": [
    "### Questão 2)\n",
    "**Faça a conversão entre tipos para dois atributos. Escolha as conversões que achar mais adequada, quantitativo para qualitativo ou qualitativo para quantitativo. Explique o que você fez e porque achou essa a melhor forma de fazer. Para referência consulte os slides 9-21.**"
   ]
  },
  {
   "cell_type": "markdown",
   "metadata": {},
   "source": [
    "Mudaremos os atributos Pclass e Survived.\n",
    "\n",
    "**Pclass:**\n",
    "- 1: (1, 0, 0)\n",
    "- 2: (0, 1, 0)\n",
    "- 3: (0, 0, 1)\n",
    "\n",
    "**Survived:**\n",
    "- 0: (1, 0)\n",
    "- 1: (0, 1)"
   ]
  },
  {
   "cell_type": "code",
   "execution_count": 92,
   "metadata": {
    "scrolled": true
   },
   "outputs": [
    {
     "data": {
      "text/html": [
       "<div>\n",
       "<style scoped>\n",
       "    .dataframe tbody tr th:only-of-type {\n",
       "        vertical-align: middle;\n",
       "    }\n",
       "\n",
       "    .dataframe tbody tr th {\n",
       "        vertical-align: top;\n",
       "    }\n",
       "\n",
       "    .dataframe thead th {\n",
       "        text-align: right;\n",
       "    }\n",
       "</style>\n",
       "<table border=\"1\" class=\"dataframe\">\n",
       "  <thead>\n",
       "    <tr style=\"text-align: right;\">\n",
       "      <th></th>\n",
       "      <th>Survived</th>\n",
       "      <th>Pclass</th>\n",
       "      <th>Age</th>\n",
       "      <th>SibSp</th>\n",
       "      <th>Parch</th>\n",
       "      <th>Fare</th>\n",
       "    </tr>\n",
       "  </thead>\n",
       "  <tbody>\n",
       "    <tr>\n",
       "      <th>0</th>\n",
       "      <td>0</td>\n",
       "      <td>3</td>\n",
       "      <td>22.0</td>\n",
       "      <td>1</td>\n",
       "      <td>0</td>\n",
       "      <td>7.2500</td>\n",
       "    </tr>\n",
       "    <tr>\n",
       "      <th>1</th>\n",
       "      <td>1</td>\n",
       "      <td>1</td>\n",
       "      <td>38.0</td>\n",
       "      <td>1</td>\n",
       "      <td>0</td>\n",
       "      <td>71.2833</td>\n",
       "    </tr>\n",
       "    <tr>\n",
       "      <th>2</th>\n",
       "      <td>1</td>\n",
       "      <td>3</td>\n",
       "      <td>26.0</td>\n",
       "      <td>0</td>\n",
       "      <td>0</td>\n",
       "      <td>7.9250</td>\n",
       "    </tr>\n",
       "    <tr>\n",
       "      <th>3</th>\n",
       "      <td>1</td>\n",
       "      <td>1</td>\n",
       "      <td>35.0</td>\n",
       "      <td>1</td>\n",
       "      <td>0</td>\n",
       "      <td>53.1000</td>\n",
       "    </tr>\n",
       "    <tr>\n",
       "      <th>4</th>\n",
       "      <td>0</td>\n",
       "      <td>3</td>\n",
       "      <td>35.0</td>\n",
       "      <td>0</td>\n",
       "      <td>0</td>\n",
       "      <td>8.0500</td>\n",
       "    </tr>\n",
       "    <tr>\n",
       "      <th>6</th>\n",
       "      <td>0</td>\n",
       "      <td>1</td>\n",
       "      <td>54.0</td>\n",
       "      <td>0</td>\n",
       "      <td>0</td>\n",
       "      <td>51.8625</td>\n",
       "    </tr>\n",
       "    <tr>\n",
       "      <th>7</th>\n",
       "      <td>0</td>\n",
       "      <td>3</td>\n",
       "      <td>2.0</td>\n",
       "      <td>3</td>\n",
       "      <td>1</td>\n",
       "      <td>21.0750</td>\n",
       "    </tr>\n",
       "    <tr>\n",
       "      <th>8</th>\n",
       "      <td>1</td>\n",
       "      <td>3</td>\n",
       "      <td>27.0</td>\n",
       "      <td>0</td>\n",
       "      <td>2</td>\n",
       "      <td>11.1333</td>\n",
       "    </tr>\n",
       "    <tr>\n",
       "      <th>9</th>\n",
       "      <td>1</td>\n",
       "      <td>2</td>\n",
       "      <td>14.0</td>\n",
       "      <td>1</td>\n",
       "      <td>0</td>\n",
       "      <td>30.0708</td>\n",
       "    </tr>\n",
       "    <tr>\n",
       "      <th>10</th>\n",
       "      <td>1</td>\n",
       "      <td>3</td>\n",
       "      <td>4.0</td>\n",
       "      <td>1</td>\n",
       "      <td>1</td>\n",
       "      <td>16.7000</td>\n",
       "    </tr>\n",
       "  </tbody>\n",
       "</table>\n",
       "</div>"
      ],
      "text/plain": [
       "    Survived  Pclass   Age  SibSp  Parch     Fare\n",
       "0          0       3  22.0      1      0   7.2500\n",
       "1          1       1  38.0      1      0  71.2833\n",
       "2          1       3  26.0      0      0   7.9250\n",
       "3          1       1  35.0      1      0  53.1000\n",
       "4          0       3  35.0      0      0   8.0500\n",
       "6          0       1  54.0      0      0  51.8625\n",
       "7          0       3   2.0      3      1  21.0750\n",
       "8          1       3  27.0      0      2  11.1333\n",
       "9          1       2  14.0      1      0  30.0708\n",
       "10         1       3   4.0      1      1  16.7000"
      ]
     },
     "execution_count": 92,
     "metadata": {},
     "output_type": "execute_result"
    }
   ],
   "source": [
    "clean.head(n=10)"
   ]
  },
  {
   "cell_type": "code",
   "execution_count": 96,
   "metadata": {
    "scrolled": true
   },
   "outputs": [
    {
     "data": {
      "text/html": [
       "<div>\n",
       "<style scoped>\n",
       "    .dataframe tbody tr th:only-of-type {\n",
       "        vertical-align: middle;\n",
       "    }\n",
       "\n",
       "    .dataframe tbody tr th {\n",
       "        vertical-align: top;\n",
       "    }\n",
       "\n",
       "    .dataframe thead th {\n",
       "        text-align: right;\n",
       "    }\n",
       "</style>\n",
       "<table border=\"1\" class=\"dataframe\">\n",
       "  <thead>\n",
       "    <tr style=\"text-align: right;\">\n",
       "      <th></th>\n",
       "      <th>Survived</th>\n",
       "      <th>Pclass</th>\n",
       "      <th>Age</th>\n",
       "      <th>SibSp</th>\n",
       "      <th>Parch</th>\n",
       "      <th>Fare</th>\n",
       "    </tr>\n",
       "  </thead>\n",
       "  <tbody>\n",
       "    <tr>\n",
       "      <th>0</th>\n",
       "      <td>[1, 0]</td>\n",
       "      <td>[0, 0, 1]</td>\n",
       "      <td>22.0</td>\n",
       "      <td>1.0</td>\n",
       "      <td>0.0</td>\n",
       "      <td>7.2500</td>\n",
       "    </tr>\n",
       "    <tr>\n",
       "      <th>1</th>\n",
       "      <td>[0, 1]</td>\n",
       "      <td>[1, 0, 0]</td>\n",
       "      <td>38.0</td>\n",
       "      <td>1.0</td>\n",
       "      <td>0.0</td>\n",
       "      <td>71.2833</td>\n",
       "    </tr>\n",
       "    <tr>\n",
       "      <th>2</th>\n",
       "      <td>[0, 1]</td>\n",
       "      <td>[0, 0, 1]</td>\n",
       "      <td>26.0</td>\n",
       "      <td>0.0</td>\n",
       "      <td>0.0</td>\n",
       "      <td>7.9250</td>\n",
       "    </tr>\n",
       "    <tr>\n",
       "      <th>3</th>\n",
       "      <td>[0, 1]</td>\n",
       "      <td>[1, 0, 0]</td>\n",
       "      <td>35.0</td>\n",
       "      <td>1.0</td>\n",
       "      <td>0.0</td>\n",
       "      <td>53.1000</td>\n",
       "    </tr>\n",
       "    <tr>\n",
       "      <th>4</th>\n",
       "      <td>[1, 0]</td>\n",
       "      <td>[0, 0, 1]</td>\n",
       "      <td>35.0</td>\n",
       "      <td>0.0</td>\n",
       "      <td>0.0</td>\n",
       "      <td>8.0500</td>\n",
       "    </tr>\n",
       "    <tr>\n",
       "      <th>5</th>\n",
       "      <td>[1, 0]</td>\n",
       "      <td>[1, 0, 0]</td>\n",
       "      <td>54.0</td>\n",
       "      <td>0.0</td>\n",
       "      <td>0.0</td>\n",
       "      <td>51.8625</td>\n",
       "    </tr>\n",
       "    <tr>\n",
       "      <th>6</th>\n",
       "      <td>[1, 0]</td>\n",
       "      <td>[0, 0, 1]</td>\n",
       "      <td>2.0</td>\n",
       "      <td>3.0</td>\n",
       "      <td>1.0</td>\n",
       "      <td>21.0750</td>\n",
       "    </tr>\n",
       "    <tr>\n",
       "      <th>7</th>\n",
       "      <td>[0, 1]</td>\n",
       "      <td>[0, 0, 1]</td>\n",
       "      <td>27.0</td>\n",
       "      <td>0.0</td>\n",
       "      <td>2.0</td>\n",
       "      <td>11.1333</td>\n",
       "    </tr>\n",
       "    <tr>\n",
       "      <th>8</th>\n",
       "      <td>[0, 1]</td>\n",
       "      <td>[0, 1, 0]</td>\n",
       "      <td>14.0</td>\n",
       "      <td>1.0</td>\n",
       "      <td>0.0</td>\n",
       "      <td>30.0708</td>\n",
       "    </tr>\n",
       "    <tr>\n",
       "      <th>9</th>\n",
       "      <td>[0, 1]</td>\n",
       "      <td>[0, 0, 1]</td>\n",
       "      <td>4.0</td>\n",
       "      <td>1.0</td>\n",
       "      <td>1.0</td>\n",
       "      <td>16.7000</td>\n",
       "    </tr>\n",
       "  </tbody>\n",
       "</table>\n",
       "</div>"
      ],
      "text/plain": [
       "  Survived     Pclass   Age  SibSp  Parch     Fare\n",
       "0   [1, 0]  [0, 0, 1]  22.0    1.0    0.0   7.2500\n",
       "1   [0, 1]  [1, 0, 0]  38.0    1.0    0.0  71.2833\n",
       "2   [0, 1]  [0, 0, 1]  26.0    0.0    0.0   7.9250\n",
       "3   [0, 1]  [1, 0, 0]  35.0    1.0    0.0  53.1000\n",
       "4   [1, 0]  [0, 0, 1]  35.0    0.0    0.0   8.0500\n",
       "5   [1, 0]  [1, 0, 0]  54.0    0.0    0.0  51.8625\n",
       "6   [1, 0]  [0, 0, 1]   2.0    3.0    1.0  21.0750\n",
       "7   [0, 1]  [0, 0, 1]  27.0    0.0    2.0  11.1333\n",
       "8   [0, 1]  [0, 1, 0]  14.0    1.0    0.0  30.0708\n",
       "9   [0, 1]  [0, 0, 1]   4.0    1.0    1.0  16.7000"
      ]
     },
     "execution_count": 96,
     "metadata": {},
     "output_type": "execute_result"
    }
   ],
   "source": [
    "ca = pd.DataFrame(columns=columns)\n",
    "\n",
    "for c in clean.values:\n",
    "    temp = {}\n",
    "\n",
    "    # Copiando os elementos que não serão mudados\n",
    "    temp['Age'] = c[2]\n",
    "    temp['SibSp'] = c[3]\n",
    "    temp['Parch'] = c[4]\n",
    "    temp['Fare'] = c[5]\n",
    "\n",
    "    # Mudando o atributo Survived\n",
    "    if c[0] == 0:\n",
    "        temp['Survived'] = [1,0]\n",
    "    elif c[0] == 1:\n",
    "        temp['Survived'] = [0,1]\n",
    "        \n",
    "    # Mudando o atributo Pclass\n",
    "    if c[1] == 1:\n",
    "        temp['Pclass'] = [1, 0, 0]\n",
    "    elif c[1] == 2:\n",
    "        temp['Pclass'] = [0, 1, 0]\n",
    "    elif c[1] == 3:\n",
    "        temp['Pclass'] = [0, 0, 1]\n",
    "\n",
    "    ca = ca.append(other=temp, ignore_index=True)\n",
    "\n",
    "ca.head(n=10)"
   ]
  },
  {
   "cell_type": "markdown",
   "metadata": {},
   "source": [
    "Os atributos Survived e Pclass foram escolhidos pelos seguintes motivos:\n",
    "- Survived: é a classe do problema, portanto faz mais sentido ela estar no formato 1-de-n.\n",
    "- Pclass: é um atributo com poucos valores, com isso o vetor dele não fica grande."
   ]
  },
  {
   "cell_type": "markdown",
   "metadata": {},
   "source": [
    "### Questão 3)\n",
    "**Realize a normalização de duas colunas. Para normalizar utilize a abordagem 0-1 (slide 27) e z-score (slide 29). Apresente métricas que comprovem que a normalização foi realizada (boxplot, histograma, ...)**"
   ]
  },
  {
   "cell_type": "markdown",
   "metadata": {},
   "source": [
    "Normalizaremos os atributos Age e Fare."
   ]
  },
  {
   "cell_type": "code",
   "execution_count": 124,
   "metadata": {},
   "outputs": [],
   "source": [
    "# Calcula a normalização 0-1\n",
    "def zeroOneNorm (x, minimum, maximum):\n",
    "    return ((x - minimum)/(maximum - minimum))\n",
    "\n",
    "# Calcula o z-score\n",
    "def zScore (x, mean, std):\n",
    "    return ((x - mean)/std)"
   ]
  },
  {
   "cell_type": "code",
   "execution_count": 142,
   "metadata": {},
   "outputs": [
    {
     "name": "stdout",
     "output_type": "stream",
     "text": [
      "Valores normalizados com 0-1\n"
     ]
    },
    {
     "data": {
      "text/html": [
       "<div>\n",
       "<style scoped>\n",
       "    .dataframe tbody tr th:only-of-type {\n",
       "        vertical-align: middle;\n",
       "    }\n",
       "\n",
       "    .dataframe tbody tr th {\n",
       "        vertical-align: top;\n",
       "    }\n",
       "\n",
       "    .dataframe thead th {\n",
       "        text-align: right;\n",
       "    }\n",
       "</style>\n",
       "<table border=\"1\" class=\"dataframe\">\n",
       "  <thead>\n",
       "    <tr style=\"text-align: right;\">\n",
       "      <th></th>\n",
       "      <th>Survived</th>\n",
       "      <th>Pclass</th>\n",
       "      <th>Age</th>\n",
       "      <th>SibSp</th>\n",
       "      <th>Parch</th>\n",
       "      <th>Fare</th>\n",
       "    </tr>\n",
       "  </thead>\n",
       "  <tbody>\n",
       "    <tr>\n",
       "      <th>0</th>\n",
       "      <td>[1, 0]</td>\n",
       "      <td>[0, 0, 1]</td>\n",
       "      <td>0.271174</td>\n",
       "      <td>1.0</td>\n",
       "      <td>0.0</td>\n",
       "      <td>0.014151</td>\n",
       "    </tr>\n",
       "    <tr>\n",
       "      <th>1</th>\n",
       "      <td>[0, 1]</td>\n",
       "      <td>[1, 0, 0]</td>\n",
       "      <td>0.472229</td>\n",
       "      <td>1.0</td>\n",
       "      <td>0.0</td>\n",
       "      <td>0.139136</td>\n",
       "    </tr>\n",
       "    <tr>\n",
       "      <th>2</th>\n",
       "      <td>[0, 1]</td>\n",
       "      <td>[0, 0, 1]</td>\n",
       "      <td>0.321438</td>\n",
       "      <td>0.0</td>\n",
       "      <td>0.0</td>\n",
       "      <td>0.015469</td>\n",
       "    </tr>\n",
       "    <tr>\n",
       "      <th>3</th>\n",
       "      <td>[0, 1]</td>\n",
       "      <td>[1, 0, 0]</td>\n",
       "      <td>0.434531</td>\n",
       "      <td>1.0</td>\n",
       "      <td>0.0</td>\n",
       "      <td>0.103644</td>\n",
       "    </tr>\n",
       "    <tr>\n",
       "      <th>4</th>\n",
       "      <td>[1, 0]</td>\n",
       "      <td>[0, 0, 1]</td>\n",
       "      <td>0.434531</td>\n",
       "      <td>0.0</td>\n",
       "      <td>0.0</td>\n",
       "      <td>0.015713</td>\n",
       "    </tr>\n",
       "    <tr>\n",
       "      <th>5</th>\n",
       "      <td>[1, 0]</td>\n",
       "      <td>[1, 0, 0]</td>\n",
       "      <td>0.673285</td>\n",
       "      <td>0.0</td>\n",
       "      <td>0.0</td>\n",
       "      <td>0.101229</td>\n",
       "    </tr>\n",
       "    <tr>\n",
       "      <th>6</th>\n",
       "      <td>[1, 0]</td>\n",
       "      <td>[0, 0, 1]</td>\n",
       "      <td>0.019854</td>\n",
       "      <td>3.0</td>\n",
       "      <td>1.0</td>\n",
       "      <td>0.041136</td>\n",
       "    </tr>\n",
       "    <tr>\n",
       "      <th>7</th>\n",
       "      <td>[0, 1]</td>\n",
       "      <td>[0, 0, 1]</td>\n",
       "      <td>0.334004</td>\n",
       "      <td>0.0</td>\n",
       "      <td>2.0</td>\n",
       "      <td>0.021731</td>\n",
       "    </tr>\n",
       "    <tr>\n",
       "      <th>8</th>\n",
       "      <td>[0, 1]</td>\n",
       "      <td>[0, 1, 0]</td>\n",
       "      <td>0.170646</td>\n",
       "      <td>1.0</td>\n",
       "      <td>0.0</td>\n",
       "      <td>0.058694</td>\n",
       "    </tr>\n",
       "    <tr>\n",
       "      <th>9</th>\n",
       "      <td>[0, 1]</td>\n",
       "      <td>[0, 0, 1]</td>\n",
       "      <td>0.044986</td>\n",
       "      <td>1.0</td>\n",
       "      <td>1.0</td>\n",
       "      <td>0.032596</td>\n",
       "    </tr>\n",
       "  </tbody>\n",
       "</table>\n",
       "</div>"
      ],
      "text/plain": [
       "  Survived     Pclass       Age  SibSp  Parch      Fare\n",
       "0   [1, 0]  [0, 0, 1]  0.271174    1.0    0.0  0.014151\n",
       "1   [0, 1]  [1, 0, 0]  0.472229    1.0    0.0  0.139136\n",
       "2   [0, 1]  [0, 0, 1]  0.321438    0.0    0.0  0.015469\n",
       "3   [0, 1]  [1, 0, 0]  0.434531    1.0    0.0  0.103644\n",
       "4   [1, 0]  [0, 0, 1]  0.434531    0.0    0.0  0.015713\n",
       "5   [1, 0]  [1, 0, 0]  0.673285    0.0    0.0  0.101229\n",
       "6   [1, 0]  [0, 0, 1]  0.019854    3.0    1.0  0.041136\n",
       "7   [0, 1]  [0, 0, 1]  0.334004    0.0    2.0  0.021731\n",
       "8   [0, 1]  [0, 1, 0]  0.170646    1.0    0.0  0.058694\n",
       "9   [0, 1]  [0, 0, 1]  0.044986    1.0    1.0  0.032596"
      ]
     },
     "execution_count": 142,
     "metadata": {},
     "output_type": "execute_result"
    }
   ],
   "source": [
    "minimum = ca.min()\n",
    "maximum = ca.max()\n",
    "std = ca.std()\n",
    "mean = ca.mean()\n",
    "tmp = {}\n",
    "\n",
    "norm1 = pd.DataFrame(columns=columns)\n",
    "norm2 = pd.DataFrame(columns=columns)\n",
    "\n",
    "for c in ca.values:\n",
    "    # Normalizado com 0-1\n",
    "    tmp['Survived'] = c[0]\n",
    "    tmp['Pclass'] = c[1]\n",
    "    tmp['Age'] = zeroOneNorm(c[2], minimum['Age'], maximum['Age'])\n",
    "    tmp['SibSp'] = c[3]\n",
    "    tmp['Parch'] = c[4]\n",
    "    tmp['Fare'] = zeroOneNorm(c[5], minimum['Fare'], maximum['Fare'])\n",
    "\n",
    "    norm1 = norm1.append(other=tmp, ignore_index=True)\n",
    "\n",
    "    # Normalizado com z-score\n",
    "    tmp['Survived'] = c[0]\n",
    "    tmp['Pclass'] = c[1]\n",
    "    tmp['Age'] = zScore(c[2], mean['Age'], std['Age'])\n",
    "    tmp['SibSp'] = c[3]\n",
    "    tmp['Parch'] = c[4]\n",
    "    tmp['Fare'] = zScore(c[5], mean['Fare'], std['Fare'])\n",
    "\n",
    "    norm2 = norm2.append(other=tmp, ignore_index=True)\n",
    "\n",
    "print(\"Valores normalizados com 0-1\")\n",
    "norm1.head(n=10)"
   ]
  },
  {
   "cell_type": "code",
   "execution_count": 143,
   "metadata": {},
   "outputs": [
    {
     "name": "stdout",
     "output_type": "stream",
     "text": [
      "Valores normalizados com z-score\n"
     ]
    },
    {
     "data": {
      "text/html": [
       "<div>\n",
       "<style scoped>\n",
       "    .dataframe tbody tr th:only-of-type {\n",
       "        vertical-align: middle;\n",
       "    }\n",
       "\n",
       "    .dataframe tbody tr th {\n",
       "        vertical-align: top;\n",
       "    }\n",
       "\n",
       "    .dataframe thead th {\n",
       "        text-align: right;\n",
       "    }\n",
       "</style>\n",
       "<table border=\"1\" class=\"dataframe\">\n",
       "  <thead>\n",
       "    <tr style=\"text-align: right;\">\n",
       "      <th></th>\n",
       "      <th>Survived</th>\n",
       "      <th>Pclass</th>\n",
       "      <th>Age</th>\n",
       "      <th>SibSp</th>\n",
       "      <th>Parch</th>\n",
       "      <th>Fare</th>\n",
       "    </tr>\n",
       "  </thead>\n",
       "  <tbody>\n",
       "    <tr>\n",
       "      <th>0</th>\n",
       "      <td>[1, 0]</td>\n",
       "      <td>[0, 0, 1]</td>\n",
       "      <td>-0.530005</td>\n",
       "      <td>1.0</td>\n",
       "      <td>0.0</td>\n",
       "      <td>-0.518614</td>\n",
       "    </tr>\n",
       "    <tr>\n",
       "      <th>1</th>\n",
       "      <td>[0, 1]</td>\n",
       "      <td>[1, 0, 0]</td>\n",
       "      <td>0.571430</td>\n",
       "      <td>1.0</td>\n",
       "      <td>0.0</td>\n",
       "      <td>0.691412</td>\n",
       "    </tr>\n",
       "    <tr>\n",
       "      <th>2</th>\n",
       "      <td>[0, 1]</td>\n",
       "      <td>[0, 0, 1]</td>\n",
       "      <td>-0.254646</td>\n",
       "      <td>0.0</td>\n",
       "      <td>0.0</td>\n",
       "      <td>-0.505859</td>\n",
       "    </tr>\n",
       "    <tr>\n",
       "      <th>3</th>\n",
       "      <td>[0, 1]</td>\n",
       "      <td>[1, 0, 0]</td>\n",
       "      <td>0.364911</td>\n",
       "      <td>1.0</td>\n",
       "      <td>0.0</td>\n",
       "      <td>0.347805</td>\n",
       "    </tr>\n",
       "    <tr>\n",
       "      <th>4</th>\n",
       "      <td>[1, 0]</td>\n",
       "      <td>[0, 0, 1]</td>\n",
       "      <td>0.364911</td>\n",
       "      <td>0.0</td>\n",
       "      <td>0.0</td>\n",
       "      <td>-0.503497</td>\n",
       "    </tr>\n",
       "    <tr>\n",
       "      <th>5</th>\n",
       "      <td>[1, 0]</td>\n",
       "      <td>[1, 0, 0]</td>\n",
       "      <td>1.672866</td>\n",
       "      <td>0.0</td>\n",
       "      <td>0.0</td>\n",
       "      <td>0.324421</td>\n",
       "    </tr>\n",
       "    <tr>\n",
       "      <th>6</th>\n",
       "      <td>[1, 0]</td>\n",
       "      <td>[0, 0, 1]</td>\n",
       "      <td>-1.906799</td>\n",
       "      <td>3.0</td>\n",
       "      <td>1.0</td>\n",
       "      <td>-0.257366</td>\n",
       "    </tr>\n",
       "    <tr>\n",
       "      <th>7</th>\n",
       "      <td>[0, 1]</td>\n",
       "      <td>[0, 0, 1]</td>\n",
       "      <td>-0.185807</td>\n",
       "      <td>0.0</td>\n",
       "      <td>2.0</td>\n",
       "      <td>-0.445232</td>\n",
       "    </tr>\n",
       "    <tr>\n",
       "      <th>8</th>\n",
       "      <td>[0, 1]</td>\n",
       "      <td>[0, 1, 0]</td>\n",
       "      <td>-1.080723</td>\n",
       "      <td>1.0</td>\n",
       "      <td>0.0</td>\n",
       "      <td>-0.087374</td>\n",
       "    </tr>\n",
       "    <tr>\n",
       "      <th>9</th>\n",
       "      <td>[0, 1]</td>\n",
       "      <td>[0, 0, 1]</td>\n",
       "      <td>-1.769120</td>\n",
       "      <td>1.0</td>\n",
       "      <td>1.0</td>\n",
       "      <td>-0.340039</td>\n",
       "    </tr>\n",
       "  </tbody>\n",
       "</table>\n",
       "</div>"
      ],
      "text/plain": [
       "  Survived     Pclass       Age  SibSp  Parch      Fare\n",
       "0   [1, 0]  [0, 0, 1] -0.530005    1.0    0.0 -0.518614\n",
       "1   [0, 1]  [1, 0, 0]  0.571430    1.0    0.0  0.691412\n",
       "2   [0, 1]  [0, 0, 1] -0.254646    0.0    0.0 -0.505859\n",
       "3   [0, 1]  [1, 0, 0]  0.364911    1.0    0.0  0.347805\n",
       "4   [1, 0]  [0, 0, 1]  0.364911    0.0    0.0 -0.503497\n",
       "5   [1, 0]  [1, 0, 0]  1.672866    0.0    0.0  0.324421\n",
       "6   [1, 0]  [0, 0, 1] -1.906799    3.0    1.0 -0.257366\n",
       "7   [0, 1]  [0, 0, 1] -0.185807    0.0    2.0 -0.445232\n",
       "8   [0, 1]  [0, 1, 0] -1.080723    1.0    0.0 -0.087374\n",
       "9   [0, 1]  [0, 0, 1] -1.769120    1.0    1.0 -0.340039"
      ]
     },
     "execution_count": 143,
     "metadata": {},
     "output_type": "execute_result"
    }
   ],
   "source": [
    "print(\"Valores normalizados com z-score\")\n",
    "norm2.head(n=10)"
   ]
  },
  {
   "cell_type": "code",
   "execution_count": 147,
   "metadata": {
    "scrolled": true
   },
   "outputs": [
    {
     "data": {
      "image/png": "[encoded data removed]",
      "text/plain": [
       "<Figure size 432x288 with 1 Axes>"
      ]
     },
     "metadata": {},
     "output_type": "display_data"
    },
    {
     "data": {
      "image/png": "[encoded data removed]",
      "text/plain": [
       "<Figure size 432x288 with 1 Axes>"
      ]
     },
     "metadata": {},
     "output_type": "display_data"
    },
    {
     "data": {
      "image/png": "[encoded data removed]",
      "text/plain": [
       "<Figure size 432x288 with 1 Axes>"
      ]
     },
     "metadata": {},
     "output_type": "display_data"
    },
    {
     "data": {
      "image/png": "[encoded data removed]",
      "text/plain": [
       "<Figure size 432x288 with 1 Axes>"
      ]
     },
     "metadata": {},
     "output_type": "display_data"
    }
   ],
   "source": [
    "# Histogramas e Boxplots sem normalização\n",
    "for i in [2,5]:\n",
    "    plt.hist(ca.iloc[:, i], bins='auto')\n",
    "    plt.title(columns[i])\n",
    "    plt.show()\n",
    "\n",
    "    ca.boxplot(column=columns[i])\n",
    "    plt.title(columns[i])\n",
    "    plt.show()"
   ]
  },
  {
   "cell_type": "code",
   "execution_count": 145,
   "metadata": {
    "scrolled": true
   },
   "outputs": [
    {
     "data": {
      "image/png": "[encoded data removed]",
      "text/plain": [
       "<Figure size 432x288 with 1 Axes>"
      ]
     },
     "metadata": {},
     "output_type": "display_data"
    },
    {
     "data": {
      "image/png": "[encoded data removed]",
      "text/plain": [
       "<Figure size 432x288 with 1 Axes>"
      ]
     },
     "metadata": {},
     "output_type": "display_data"
    },
    {
     "data": {
      "image/png": "[encoded data removed]",
      "text/plain": [
       "<Figure size 432x288 with 1 Axes>"
      ]
     },
     "metadata": {},
     "output_type": "display_data"
    },
    {
     "data": {
      "image/png": "[encoded data removed]",
      "text/plain": [
       "<Figure size 432x288 with 1 Axes>"
      ]
     },
     "metadata": {},
     "output_type": "display_data"
    }
   ],
   "source": [
    "# Histogramas e Boxplots com normalização 0-1\n",
    "for i in [2,5]:\n",
    "    plt.hist(norm1.iloc[:, i], bins='auto')\n",
    "    plt.title(columns[i])\n",
    "    plt.show()\n",
    "\n",
    "    norm1.boxplot(column=columns[i])\n",
    "    plt.title(columns[i])\n",
    "    plt.show()"
   ]
  },
  {
   "cell_type": "code",
   "execution_count": 146,
   "metadata": {
    "scrolled": true
   },
   "outputs": [
    {
     "data": {
      "image/png": "[encoded data removed]",
      "text/plain": [
       "<Figure size 432x288 with 1 Axes>"
      ]
     },
     "metadata": {},
     "output_type": "display_data"
    },
    {
     "data": {
      "image/png": "[encoded data removed]",
      "text/plain": [
       "<Figure size 432x288 with 1 Axes>"
      ]
     },
     "metadata": {},
     "output_type": "display_data"
    },
    {
     "data": {
      "image/png": "[encoded data removed]",
      "text/plain": [
       "<Figure size 432x288 with 1 Axes>"
      ]
     },
     "metadata": {},
     "output_type": "display_data"
    },
    {
     "data": {
      "image/png": "[encoded data removed]",
      "text/plain": [
       "<Figure size 432x288 with 1 Axes>"
      ]
     },
     "metadata": {},
     "output_type": "display_data"
    }
   ],
   "source": [
    "# Histogramas e Boxplots com normalização z-score\n",
    "for i in [2,5]:\n",
    "    plt.hist(norm2.iloc[:, i], bins='auto')\n",
    "    plt.title(columns[i])\n",
    "    plt.show()\n",
    "\n",
    "    norm2.boxplot(column=columns[i])\n",
    "    plt.title(columns[i])\n",
    "    plt.show()"
   ]
  },
  {
   "cell_type": "markdown",
   "metadata": {},
   "source": [
    "Comparando os gráficos com e sem normalização, podemos ver que as normalizações mantêm os dados consistentes com os originais, sem perder a \"essência\" destes."
   ]
  }
 ],
 "metadata": {
  "kernelspec": {
   "display_name": "Python 3",
   "language": "python",
   "name": "python3"
  },
  "language_info": {
   "codemirror_mode": {
    "name": "ipython",
    "version": 3
   },
   "file_extension": ".py",
   "mimetype": "text/x-python",
   "name": "python",
   "nbconvert_exporter": "python",
   "pygments_lexer": "ipython3",
   "version": "3.6.5"
  }
 },
 "nbformat": 4,
 "nbformat_minor": 2
}
