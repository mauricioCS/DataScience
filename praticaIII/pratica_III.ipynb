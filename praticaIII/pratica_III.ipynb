{
 "cells": [
  {
   "cell_type": "markdown",
   "metadata": {},
   "source": [
    "# Prática III\n",
    "\n",
    "Eduardo Garcia Misiuk - 9293230 \n",
    "Mauricio Caetano da Silva - 9040996\n",
    "\n",
    "Datasets escolhidos: Titanic e Agro\n",
    "\n",
    "### Antes de prosseguir com a análise dos dados é importante destacar a necessidade da instalação dos pacotes \"python3-matplotlib\" e \"python3-seaborn\" para a correta execução."
   ]
  },
  {
   "cell_type": "markdown",
   "metadata": {},
   "source": [
    "# Primeira parte: Titanic"
   ]
  },
  {
   "cell_type": "code",
   "execution_count": 1,
   "metadata": {
    "scrolled": true
   },
   "outputs": [
    {
     "data": {
      "text/html": [
       "<div>\n",
       "<style scoped>\n",
       "    .dataframe tbody tr th:only-of-type {\n",
       "        vertical-align: middle;\n",
       "    }\n",
       "\n",
       "    .dataframe tbody tr th {\n",
       "        vertical-align: top;\n",
       "    }\n",
       "\n",
       "    .dataframe thead th {\n",
       "        text-align: right;\n",
       "    }\n",
       "</style>\n",
       "<table border=\"1\" class=\"dataframe\">\n",
       "  <thead>\n",
       "    <tr style=\"text-align: right;\">\n",
       "      <th></th>\n",
       "      <th>Survived</th>\n",
       "      <th>Pclass</th>\n",
       "      <th>Age</th>\n",
       "      <th>SibSp</th>\n",
       "      <th>Fare</th>\n",
       "    </tr>\n",
       "  </thead>\n",
       "  <tbody>\n",
       "    <tr>\n",
       "      <th>0</th>\n",
       "      <td>0</td>\n",
       "      <td>3</td>\n",
       "      <td>22.0</td>\n",
       "      <td>1</td>\n",
       "      <td>7.2500</td>\n",
       "    </tr>\n",
       "    <tr>\n",
       "      <th>1</th>\n",
       "      <td>1</td>\n",
       "      <td>1</td>\n",
       "      <td>38.0</td>\n",
       "      <td>1</td>\n",
       "      <td>71.2833</td>\n",
       "    </tr>\n",
       "    <tr>\n",
       "      <th>2</th>\n",
       "      <td>1</td>\n",
       "      <td>3</td>\n",
       "      <td>26.0</td>\n",
       "      <td>0</td>\n",
       "      <td>7.9250</td>\n",
       "    </tr>\n",
       "    <tr>\n",
       "      <th>3</th>\n",
       "      <td>1</td>\n",
       "      <td>1</td>\n",
       "      <td>35.0</td>\n",
       "      <td>1</td>\n",
       "      <td>53.1000</td>\n",
       "    </tr>\n",
       "    <tr>\n",
       "      <th>4</th>\n",
       "      <td>0</td>\n",
       "      <td>3</td>\n",
       "      <td>35.0</td>\n",
       "      <td>0</td>\n",
       "      <td>8.0500</td>\n",
       "    </tr>\n",
       "    <tr>\n",
       "      <th>5</th>\n",
       "      <td>0</td>\n",
       "      <td>3</td>\n",
       "      <td>NaN</td>\n",
       "      <td>0</td>\n",
       "      <td>8.4583</td>\n",
       "    </tr>\n",
       "    <tr>\n",
       "      <th>6</th>\n",
       "      <td>0</td>\n",
       "      <td>1</td>\n",
       "      <td>54.0</td>\n",
       "      <td>0</td>\n",
       "      <td>51.8625</td>\n",
       "    </tr>\n",
       "    <tr>\n",
       "      <th>7</th>\n",
       "      <td>0</td>\n",
       "      <td>3</td>\n",
       "      <td>2.0</td>\n",
       "      <td>3</td>\n",
       "      <td>21.0750</td>\n",
       "    </tr>\n",
       "    <tr>\n",
       "      <th>8</th>\n",
       "      <td>1</td>\n",
       "      <td>3</td>\n",
       "      <td>27.0</td>\n",
       "      <td>0</td>\n",
       "      <td>11.1333</td>\n",
       "    </tr>\n",
       "    <tr>\n",
       "      <th>9</th>\n",
       "      <td>1</td>\n",
       "      <td>2</td>\n",
       "      <td>14.0</td>\n",
       "      <td>1</td>\n",
       "      <td>30.0708</td>\n",
       "    </tr>\n",
       "    <tr>\n",
       "      <th>10</th>\n",
       "      <td>1</td>\n",
       "      <td>3</td>\n",
       "      <td>4.0</td>\n",
       "      <td>1</td>\n",
       "      <td>16.7000</td>\n",
       "    </tr>\n",
       "    <tr>\n",
       "      <th>11</th>\n",
       "      <td>1</td>\n",
       "      <td>1</td>\n",
       "      <td>58.0</td>\n",
       "      <td>0</td>\n",
       "      <td>26.5500</td>\n",
       "    </tr>\n",
       "    <tr>\n",
       "      <th>12</th>\n",
       "      <td>0</td>\n",
       "      <td>3</td>\n",
       "      <td>20.0</td>\n",
       "      <td>0</td>\n",
       "      <td>8.0500</td>\n",
       "    </tr>\n",
       "    <tr>\n",
       "      <th>13</th>\n",
       "      <td>0</td>\n",
       "      <td>3</td>\n",
       "      <td>39.0</td>\n",
       "      <td>1</td>\n",
       "      <td>31.2750</td>\n",
       "    </tr>\n",
       "    <tr>\n",
       "      <th>14</th>\n",
       "      <td>0</td>\n",
       "      <td>3</td>\n",
       "      <td>14.0</td>\n",
       "      <td>0</td>\n",
       "      <td>7.8542</td>\n",
       "    </tr>\n",
       "    <tr>\n",
       "      <th>15</th>\n",
       "      <td>1</td>\n",
       "      <td>2</td>\n",
       "      <td>55.0</td>\n",
       "      <td>0</td>\n",
       "      <td>16.0000</td>\n",
       "    </tr>\n",
       "    <tr>\n",
       "      <th>16</th>\n",
       "      <td>0</td>\n",
       "      <td>3</td>\n",
       "      <td>2.0</td>\n",
       "      <td>4</td>\n",
       "      <td>29.1250</td>\n",
       "    </tr>\n",
       "    <tr>\n",
       "      <th>17</th>\n",
       "      <td>1</td>\n",
       "      <td>2</td>\n",
       "      <td>NaN</td>\n",
       "      <td>0</td>\n",
       "      <td>13.0000</td>\n",
       "    </tr>\n",
       "    <tr>\n",
       "      <th>18</th>\n",
       "      <td>0</td>\n",
       "      <td>3</td>\n",
       "      <td>31.0</td>\n",
       "      <td>1</td>\n",
       "      <td>18.0000</td>\n",
       "    </tr>\n",
       "    <tr>\n",
       "      <th>19</th>\n",
       "      <td>1</td>\n",
       "      <td>3</td>\n",
       "      <td>NaN</td>\n",
       "      <td>0</td>\n",
       "      <td>7.2250</td>\n",
       "    </tr>\n",
       "    <tr>\n",
       "      <th>20</th>\n",
       "      <td>0</td>\n",
       "      <td>2</td>\n",
       "      <td>35.0</td>\n",
       "      <td>0</td>\n",
       "      <td>26.0000</td>\n",
       "    </tr>\n",
       "    <tr>\n",
       "      <th>21</th>\n",
       "      <td>1</td>\n",
       "      <td>2</td>\n",
       "      <td>34.0</td>\n",
       "      <td>0</td>\n",
       "      <td>13.0000</td>\n",
       "    </tr>\n",
       "    <tr>\n",
       "      <th>22</th>\n",
       "      <td>1</td>\n",
       "      <td>3</td>\n",
       "      <td>15.0</td>\n",
       "      <td>0</td>\n",
       "      <td>8.0292</td>\n",
       "    </tr>\n",
       "    <tr>\n",
       "      <th>23</th>\n",
       "      <td>1</td>\n",
       "      <td>1</td>\n",
       "      <td>28.0</td>\n",
       "      <td>0</td>\n",
       "      <td>35.5000</td>\n",
       "    </tr>\n",
       "    <tr>\n",
       "      <th>24</th>\n",
       "      <td>0</td>\n",
       "      <td>3</td>\n",
       "      <td>8.0</td>\n",
       "      <td>3</td>\n",
       "      <td>21.0750</td>\n",
       "    </tr>\n",
       "    <tr>\n",
       "      <th>25</th>\n",
       "      <td>1</td>\n",
       "      <td>3</td>\n",
       "      <td>38.0</td>\n",
       "      <td>1</td>\n",
       "      <td>31.3875</td>\n",
       "    </tr>\n",
       "    <tr>\n",
       "      <th>26</th>\n",
       "      <td>0</td>\n",
       "      <td>3</td>\n",
       "      <td>NaN</td>\n",
       "      <td>0</td>\n",
       "      <td>7.2250</td>\n",
       "    </tr>\n",
       "    <tr>\n",
       "      <th>27</th>\n",
       "      <td>0</td>\n",
       "      <td>1</td>\n",
       "      <td>19.0</td>\n",
       "      <td>3</td>\n",
       "      <td>263.0000</td>\n",
       "    </tr>\n",
       "    <tr>\n",
       "      <th>28</th>\n",
       "      <td>1</td>\n",
       "      <td>3</td>\n",
       "      <td>NaN</td>\n",
       "      <td>0</td>\n",
       "      <td>7.8792</td>\n",
       "    </tr>\n",
       "    <tr>\n",
       "      <th>29</th>\n",
       "      <td>0</td>\n",
       "      <td>3</td>\n",
       "      <td>NaN</td>\n",
       "      <td>0</td>\n",
       "      <td>7.8958</td>\n",
       "    </tr>\n",
       "    <tr>\n",
       "      <th>...</th>\n",
       "      <td>...</td>\n",
       "      <td>...</td>\n",
       "      <td>...</td>\n",
       "      <td>...</td>\n",
       "      <td>...</td>\n",
       "    </tr>\n",
       "    <tr>\n",
       "      <th>861</th>\n",
       "      <td>0</td>\n",
       "      <td>2</td>\n",
       "      <td>21.0</td>\n",
       "      <td>1</td>\n",
       "      <td>11.5000</td>\n",
       "    </tr>\n",
       "    <tr>\n",
       "      <th>862</th>\n",
       "      <td>1</td>\n",
       "      <td>1</td>\n",
       "      <td>48.0</td>\n",
       "      <td>0</td>\n",
       "      <td>25.9292</td>\n",
       "    </tr>\n",
       "    <tr>\n",
       "      <th>863</th>\n",
       "      <td>0</td>\n",
       "      <td>3</td>\n",
       "      <td>NaN</td>\n",
       "      <td>8</td>\n",
       "      <td>69.5500</td>\n",
       "    </tr>\n",
       "    <tr>\n",
       "      <th>864</th>\n",
       "      <td>0</td>\n",
       "      <td>2</td>\n",
       "      <td>24.0</td>\n",
       "      <td>0</td>\n",
       "      <td>13.0000</td>\n",
       "    </tr>\n",
       "    <tr>\n",
       "      <th>865</th>\n",
       "      <td>1</td>\n",
       "      <td>2</td>\n",
       "      <td>42.0</td>\n",
       "      <td>0</td>\n",
       "      <td>13.0000</td>\n",
       "    </tr>\n",
       "    <tr>\n",
       "      <th>866</th>\n",
       "      <td>1</td>\n",
       "      <td>2</td>\n",
       "      <td>27.0</td>\n",
       "      <td>1</td>\n",
       "      <td>13.8583</td>\n",
       "    </tr>\n",
       "    <tr>\n",
       "      <th>867</th>\n",
       "      <td>0</td>\n",
       "      <td>1</td>\n",
       "      <td>31.0</td>\n",
       "      <td>0</td>\n",
       "      <td>50.4958</td>\n",
       "    </tr>\n",
       "    <tr>\n",
       "      <th>868</th>\n",
       "      <td>0</td>\n",
       "      <td>3</td>\n",
       "      <td>NaN</td>\n",
       "      <td>0</td>\n",
       "      <td>9.5000</td>\n",
       "    </tr>\n",
       "    <tr>\n",
       "      <th>869</th>\n",
       "      <td>1</td>\n",
       "      <td>3</td>\n",
       "      <td>4.0</td>\n",
       "      <td>1</td>\n",
       "      <td>11.1333</td>\n",
       "    </tr>\n",
       "    <tr>\n",
       "      <th>870</th>\n",
       "      <td>0</td>\n",
       "      <td>3</td>\n",
       "      <td>26.0</td>\n",
       "      <td>0</td>\n",
       "      <td>7.8958</td>\n",
       "    </tr>\n",
       "    <tr>\n",
       "      <th>871</th>\n",
       "      <td>1</td>\n",
       "      <td>1</td>\n",
       "      <td>47.0</td>\n",
       "      <td>1</td>\n",
       "      <td>52.5542</td>\n",
       "    </tr>\n",
       "    <tr>\n",
       "      <th>872</th>\n",
       "      <td>0</td>\n",
       "      <td>1</td>\n",
       "      <td>33.0</td>\n",
       "      <td>0</td>\n",
       "      <td>5.0000</td>\n",
       "    </tr>\n",
       "    <tr>\n",
       "      <th>873</th>\n",
       "      <td>0</td>\n",
       "      <td>3</td>\n",
       "      <td>47.0</td>\n",
       "      <td>0</td>\n",
       "      <td>9.0000</td>\n",
       "    </tr>\n",
       "    <tr>\n",
       "      <th>874</th>\n",
       "      <td>1</td>\n",
       "      <td>2</td>\n",
       "      <td>28.0</td>\n",
       "      <td>1</td>\n",
       "      <td>24.0000</td>\n",
       "    </tr>\n",
       "    <tr>\n",
       "      <th>875</th>\n",
       "      <td>1</td>\n",
       "      <td>3</td>\n",
       "      <td>15.0</td>\n",
       "      <td>0</td>\n",
       "      <td>7.2250</td>\n",
       "    </tr>\n",
       "    <tr>\n",
       "      <th>876</th>\n",
       "      <td>0</td>\n",
       "      <td>3</td>\n",
       "      <td>20.0</td>\n",
       "      <td>0</td>\n",
       "      <td>9.8458</td>\n",
       "    </tr>\n",
       "    <tr>\n",
       "      <th>877</th>\n",
       "      <td>0</td>\n",
       "      <td>3</td>\n",
       "      <td>19.0</td>\n",
       "      <td>0</td>\n",
       "      <td>7.8958</td>\n",
       "    </tr>\n",
       "    <tr>\n",
       "      <th>878</th>\n",
       "      <td>0</td>\n",
       "      <td>3</td>\n",
       "      <td>NaN</td>\n",
       "      <td>0</td>\n",
       "      <td>7.8958</td>\n",
       "    </tr>\n",
       "    <tr>\n",
       "      <th>879</th>\n",
       "      <td>1</td>\n",
       "      <td>1</td>\n",
       "      <td>56.0</td>\n",
       "      <td>0</td>\n",
       "      <td>83.1583</td>\n",
       "    </tr>\n",
       "    <tr>\n",
       "      <th>880</th>\n",
       "      <td>1</td>\n",
       "      <td>2</td>\n",
       "      <td>25.0</td>\n",
       "      <td>0</td>\n",
       "      <td>26.0000</td>\n",
       "    </tr>\n",
       "    <tr>\n",
       "      <th>881</th>\n",
       "      <td>0</td>\n",
       "      <td>3</td>\n",
       "      <td>33.0</td>\n",
       "      <td>0</td>\n",
       "      <td>7.8958</td>\n",
       "    </tr>\n",
       "    <tr>\n",
       "      <th>882</th>\n",
       "      <td>0</td>\n",
       "      <td>3</td>\n",
       "      <td>22.0</td>\n",
       "      <td>0</td>\n",
       "      <td>10.5167</td>\n",
       "    </tr>\n",
       "    <tr>\n",
       "      <th>883</th>\n",
       "      <td>0</td>\n",
       "      <td>2</td>\n",
       "      <td>28.0</td>\n",
       "      <td>0</td>\n",
       "      <td>10.5000</td>\n",
       "    </tr>\n",
       "    <tr>\n",
       "      <th>884</th>\n",
       "      <td>0</td>\n",
       "      <td>3</td>\n",
       "      <td>25.0</td>\n",
       "      <td>0</td>\n",
       "      <td>7.0500</td>\n",
       "    </tr>\n",
       "    <tr>\n",
       "      <th>885</th>\n",
       "      <td>0</td>\n",
       "      <td>3</td>\n",
       "      <td>39.0</td>\n",
       "      <td>0</td>\n",
       "      <td>29.1250</td>\n",
       "    </tr>\n",
       "    <tr>\n",
       "      <th>886</th>\n",
       "      <td>0</td>\n",
       "      <td>2</td>\n",
       "      <td>27.0</td>\n",
       "      <td>0</td>\n",
       "      <td>13.0000</td>\n",
       "    </tr>\n",
       "    <tr>\n",
       "      <th>887</th>\n",
       "      <td>1</td>\n",
       "      <td>1</td>\n",
       "      <td>19.0</td>\n",
       "      <td>0</td>\n",
       "      <td>30.0000</td>\n",
       "    </tr>\n",
       "    <tr>\n",
       "      <th>888</th>\n",
       "      <td>0</td>\n",
       "      <td>3</td>\n",
       "      <td>NaN</td>\n",
       "      <td>1</td>\n",
       "      <td>23.4500</td>\n",
       "    </tr>\n",
       "    <tr>\n",
       "      <th>889</th>\n",
       "      <td>1</td>\n",
       "      <td>1</td>\n",
       "      <td>26.0</td>\n",
       "      <td>0</td>\n",
       "      <td>30.0000</td>\n",
       "    </tr>\n",
       "    <tr>\n",
       "      <th>890</th>\n",
       "      <td>0</td>\n",
       "      <td>3</td>\n",
       "      <td>32.0</td>\n",
       "      <td>0</td>\n",
       "      <td>7.7500</td>\n",
       "    </tr>\n",
       "  </tbody>\n",
       "</table>\n",
       "<p>891 rows × 5 columns</p>\n",
       "</div>"
      ],
      "text/plain": [
       "     Survived  Pclass   Age  SibSp      Fare\n",
       "0           0       3  22.0      1    7.2500\n",
       "1           1       1  38.0      1   71.2833\n",
       "2           1       3  26.0      0    7.9250\n",
       "3           1       1  35.0      1   53.1000\n",
       "4           0       3  35.0      0    8.0500\n",
       "5           0       3   NaN      0    8.4583\n",
       "6           0       1  54.0      0   51.8625\n",
       "7           0       3   2.0      3   21.0750\n",
       "8           1       3  27.0      0   11.1333\n",
       "9           1       2  14.0      1   30.0708\n",
       "10          1       3   4.0      1   16.7000\n",
       "11          1       1  58.0      0   26.5500\n",
       "12          0       3  20.0      0    8.0500\n",
       "13          0       3  39.0      1   31.2750\n",
       "14          0       3  14.0      0    7.8542\n",
       "15          1       2  55.0      0   16.0000\n",
       "16          0       3   2.0      4   29.1250\n",
       "17          1       2   NaN      0   13.0000\n",
       "18          0       3  31.0      1   18.0000\n",
       "19          1       3   NaN      0    7.2250\n",
       "20          0       2  35.0      0   26.0000\n",
       "21          1       2  34.0      0   13.0000\n",
       "22          1       3  15.0      0    8.0292\n",
       "23          1       1  28.0      0   35.5000\n",
       "24          0       3   8.0      3   21.0750\n",
       "25          1       3  38.0      1   31.3875\n",
       "26          0       3   NaN      0    7.2250\n",
       "27          0       1  19.0      3  263.0000\n",
       "28          1       3   NaN      0    7.8792\n",
       "29          0       3   NaN      0    7.8958\n",
       "..        ...     ...   ...    ...       ...\n",
       "861         0       2  21.0      1   11.5000\n",
       "862         1       1  48.0      0   25.9292\n",
       "863         0       3   NaN      8   69.5500\n",
       "864         0       2  24.0      0   13.0000\n",
       "865         1       2  42.0      0   13.0000\n",
       "866         1       2  27.0      1   13.8583\n",
       "867         0       1  31.0      0   50.4958\n",
       "868         0       3   NaN      0    9.5000\n",
       "869         1       3   4.0      1   11.1333\n",
       "870         0       3  26.0      0    7.8958\n",
       "871         1       1  47.0      1   52.5542\n",
       "872         0       1  33.0      0    5.0000\n",
       "873         0       3  47.0      0    9.0000\n",
       "874         1       2  28.0      1   24.0000\n",
       "875         1       3  15.0      0    7.2250\n",
       "876         0       3  20.0      0    9.8458\n",
       "877         0       3  19.0      0    7.8958\n",
       "878         0       3   NaN      0    7.8958\n",
       "879         1       1  56.0      0   83.1583\n",
       "880         1       2  25.0      0   26.0000\n",
       "881         0       3  33.0      0    7.8958\n",
       "882         0       3  22.0      0   10.5167\n",
       "883         0       2  28.0      0   10.5000\n",
       "884         0       3  25.0      0    7.0500\n",
       "885         0       3  39.0      0   29.1250\n",
       "886         0       2  27.0      0   13.0000\n",
       "887         1       1  19.0      0   30.0000\n",
       "888         0       3   NaN      1   23.4500\n",
       "889         1       1  26.0      0   30.0000\n",
       "890         0       3  32.0      0    7.7500\n",
       "\n",
       "[891 rows x 5 columns]"
      ]
     },
     "execution_count": 1,
     "metadata": {},
     "output_type": "execute_result"
    }
   ],
   "source": [
    "import pandas as pd\n",
    "import numpy as np\n",
    "from matplotlib import pyplot as plt\n",
    "\n",
    "att = ['Survived','Pclass','Age','SibSp','Fare']\n",
    "\n",
    "titanic = pd.read_csv('titanic.csv', usecols=att)\n",
    "titanic"
   ]
  },
  {
   "cell_type": "markdown",
   "metadata": {},
   "source": [
    "### Questão 1)\n",
    "**Listar novamente as perguntas/hipóteses em sua versão final da prática anterior, listar quais colunas \n",
    "foram selecionadas. Se alguma pergunta já foi respondida com a análise anterior refine a questão de \n",
    "modo que você ache que as análises realizadas hoje ajudarão a responder.**\n",
    "\n",
    "As questões feitas na análise anterior foram:\n",
    "- A classe de passagem influenciou na sobrevivência das pessoas?\n",
    "- O gênero das pessoas influenciou na chance delas sobreviverem?\n",
    "- A faixa de idade das pessoas foi um fator determinante para sua sobrevivência? (independentemente de gênero)\n",
    "\n",
    "Colunas escolhidas:\n",
    "- Survived\n",
    "- Pclass\n",
    "- Age\n",
    "- SibSp\n",
    "- Fare\n",
    "\n",
    "Foi retirada a coluna Gender pois ela não era numérica e, por isso, mudamos uma das perguntas.\n",
    "\n",
    "- A classe de passagem influenciou na sobrevivência das pessoas?\n",
    "- Pclass e Fare são relacionados.\n",
    "- A faixa de idade das pessoas foi um fator determinante para sua sobrevivência? (independentemente de gênero)"
   ]
  },
  {
   "cell_type": "markdown",
   "metadata": {},
   "source": [
    "### Questão 2)\n",
    "**Plote os histograma dos atributos selecionados.\n",
    "Como você fez a escolha do parâmetro de intervalo (bin)? Por faixa (para altura, por exemplo, intervalo de 5cm), por quantidade (cada intervalo com tamanho 5, 0-5, 5-10, ...) ... ? Por que?**\n",
    "\n",
    "**O parâmetro bin pode ser complicado para ajustar corretamente e pode distorcer bastante o histograma. Uma regra prática é tentar garantir que cada intervalo tenha um número mínimo de exemplos, uns 30 em cada bin deve ser suficiente. Mesmo assim nos bins das pontas é difícil cumprir essa regra.\n",
    "Se achar interessante para sua análise, divida os dados de algum atributo e plote o histograma para cada\n",
    "parte sobreposto.**"
   ]
  },
  {
   "cell_type": "code",
   "execution_count": 2,
   "metadata": {},
   "outputs": [
    {
     "data": {
      "image/png": "[encoded data removed]",
      "text/plain": [
       "<Figure size 432x288 with 1 Axes>"
      ]
     },
     "metadata": {},
     "output_type": "display_data"
    },
    {
     "data": {
      "image/png": "[encoded data removed]",
      "text/plain": [
       "<Figure size 360x360 with 1 Axes>"
      ]
     },
     "metadata": {},
     "output_type": "display_data"
    },
    {
     "data": {
      "image/png": "[encoded data removed]",
      "text/plain": [
       "<Figure size 432x288 with 1 Axes>"
      ]
     },
     "metadata": {},
     "output_type": "display_data"
    },
    {
     "data": {
      "image/png": "[encoded data removed]",
      "text/plain": [
       "<Figure size 360x360 with 1 Axes>"
      ]
     },
     "metadata": {},
     "output_type": "display_data"
    },
    {
     "data": {
      "image/png": "[encoded data removed]",
      "text/plain": [
       "<Figure size 432x288 with 1 Axes>"
      ]
     },
     "metadata": {},
     "output_type": "display_data"
    },
    {
     "data": {
      "image/png": "[encoded data removed]",
      "text/plain": [
       "<Figure size 360x360 with 1 Axes>"
      ]
     },
     "metadata": {},
     "output_type": "display_data"
    },
    {
     "data": {
      "image/png": "[encoded data removed]",
      "text/plain": [
       "<Figure size 432x288 with 1 Axes>"
      ]
     },
     "metadata": {},
     "output_type": "display_data"
    },
    {
     "data": {
      "image/png": "[encoded data removed]",
      "text/plain": [
       "<Figure size 360x360 with 1 Axes>"
      ]
     },
     "metadata": {},
     "output_type": "display_data"
    },
    {
     "data": {
      "image/png": "[encoded data removed]",
      "text/plain": [
       "<Figure size 432x288 with 1 Axes>"
      ]
     },
     "metadata": {},
     "output_type": "display_data"
    },
    {
     "data": {
      "image/png": "[encoded data removed]",
      "text/plain": [
       "<Figure size 360x360 with 1 Axes>"
      ]
     },
     "metadata": {},
     "output_type": "display_data"
    }
   ],
   "source": [
    "# Histogramas e Boxplots\n",
    "for i in [0,1,2,3,4]:\n",
    "    plt.hist(titanic.dropna().iloc[:, i], bins='auto')\n",
    "    plt.title(titanic.columns[i])\n",
    "    plt.show()\n",
    "\n",
    "    titanic.boxplot(column=titanic.columns[i], rot=45, figsize=(5, 5), sym='')\n",
    "    plt.title(titanic.columns[i])\n",
    "    plt.show()"
   ]
  },
  {
   "cell_type": "markdown",
   "metadata": {},
   "source": [
    "Após testarmos vários valores para o atributo *bins*, decidimos deixar ele com o valor *auto* para dedixar menos poluição visual no código. Faremos agora uma análise dos experimentos com o valor deste atributo."
   ]
  },
  {
   "cell_type": "code",
   "execution_count": 3,
   "metadata": {
    "scrolled": true
   },
   "outputs": [
    {
     "data": {
      "image/png": "[encoded data removed]",
      "text/plain": [
       "<Figure size 432x288 with 1 Axes>"
      ]
     },
     "metadata": {},
     "output_type": "display_data"
    }
   ],
   "source": [
    "plt.hist(titanic.dropna().iloc[:, 4], bins=30)\n",
    "plt.title(\"Fare\")\n",
    "plt.show()"
   ]
  },
  {
   "cell_type": "markdown",
   "metadata": {},
   "source": [
    "No histograma de *Fare* com *bins=30* percebe-se a tendência dos maiores valores terem menos instâncias e os menores valores terem mais instâncias. Obviamente, o histograma com *bins='auto'* ficou muito melhor de se visualizar esta tendência, sendo este um ponto positivo do correto dimensionamento deste atributo."
   ]
  },
  {
   "cell_type": "code",
   "execution_count": 4,
   "metadata": {
    "scrolled": true
   },
   "outputs": [
    {
     "data": {
      "image/png": "[encoded data removed]",
      "text/plain": [
       "<Figure size 432x288 with 1 Axes>"
      ]
     },
     "metadata": {},
     "output_type": "display_data"
    }
   ],
   "source": [
    "plt.hist(titanic.dropna().iloc[:, 2], bins=30)\n",
    "plt.title(\"Age\")\n",
    "plt.show()"
   ]
  },
  {
   "cell_type": "markdown",
   "metadata": {},
   "source": [
    "Já no caso do atributo *Age*, podemos perceber que seu histograma ficou com quedas no meio da curva que, como visto na prática 2, se assemelha a uma normal. Neste caso, 30 *bins* é muito para representar os dados de uma melhor forma, o que percebemos quando colocamos 20 *bins*, um valor aproximado do que o algoritmo selecionou no caso do *bins='auto'*."
   ]
  },
  {
   "cell_type": "code",
   "execution_count": 5,
   "metadata": {},
   "outputs": [
    {
     "data": {
      "image/png": "[encoded data removed]",
      "text/plain": [
       "<Figure size 432x288 with 1 Axes>"
      ]
     },
     "metadata": {},
     "output_type": "display_data"
    }
   ],
   "source": [
    "col = 1\n",
    "for c in titanic.iloc[:, 0].unique():\n",
    "    plt.hist(titanic[titanic.iloc[:, 0] == c].iloc[:, col].dropna(), bins='auto', alpha=0.5)\n",
    "\n",
    "plt.title(\"Pclass\")\n",
    "plt.legend([\"Didn't survive\", \"Survived\"])\n",
    "plt.show()"
   ]
  },
  {
   "cell_type": "markdown",
   "metadata": {},
   "source": [
    "Podemos ver por este outro histograma que o número de pessoas que não sobreviveram é muito maior no caso da passagem de 3ª classe e bem menor na 1ª classe."
   ]
  },
  {
   "cell_type": "markdown",
   "metadata": {},
   "source": [
    "**Explique a relação do histograma com o boxplot, o que um mostra que o outro não? Como é possível inferir um do outro? Sugestão: plotar um boxplot e um histograma de um mesmo atributo pode ajudar a entender e responder a pergunta.**"
   ]
  },
  {
   "cell_type": "code",
   "execution_count": 22,
   "metadata": {
    "scrolled": true
   },
   "outputs": [
    {
     "data": {
      "image/png": "[encoded data removed]",
      "text/plain": [
       "<Figure size 432x288 with 1 Axes>"
      ]
     },
     "metadata": {},
     "output_type": "display_data"
    },
    {
     "data": {
      "image/png": "[encoded data removed]",
      "text/plain": [
       "<Figure size 432x360 with 1 Axes>"
      ]
     },
     "metadata": {},
     "output_type": "display_data"
    }
   ],
   "source": [
    "plt.hist(titanic.iloc[:, 2].dropna(), bins='auto')\n",
    "plt.title(titanic.columns[2])\n",
    "plt.show()\n",
    "\n",
    "titanic.boxplot(column=titanic.columns[2], figsize=(6, 5), vert=False)\n",
    "plt.title(titanic.columns[2])\n",
    "plt.show()"
   ]
  },
  {
   "cell_type": "markdown",
   "metadata": {},
   "source": [
    "O boxplot permite visualizar onde a maior parte dos dados está concentrada e também como a curva se comporta. Podemos ver que a curva é inclinada um pouco para a esquerda (o momento central 3 desta curva mostra isso, ele vale aproximadamente 0.38, e o boxplot já mostra isso, deixando os quartis mais à esquerda) e a faixa com a maior quantidade de atributos está entre 20 e 40 anos - algo que o boxplot já mostra."
   ]
  },
  {
   "cell_type": "markdown",
   "metadata": {},
   "source": [
    "### Questão 3)\n",
    "**Execute a covariância e a correlação entre os atributos selecionados. No seu caso, qual das duas é mais informativa? Explique.**\n",
    "\n",
    "**Qual a diferença entre as duas e quando é mais indicado utilizar uma ao invés da outra?**\n",
    "\n",
    "**De que forma elas ajudam, se é que ajudam, a responder suas perguntas?**"
   ]
  },
  {
   "cell_type": "code",
   "execution_count": 7,
   "metadata": {
    "scrolled": true
   },
   "outputs": [
    {
     "data": {
      "image/png": "[encoded data removed]",
      "text/plain": [
       "<Figure size 432x288 with 2 Axes>"
      ]
     },
     "metadata": {},
     "output_type": "display_data"
    },
    {
     "name": "stdout",
     "output_type": "stream",
     "text": [
      "          Survived     Pclass         Age     SibSp         Fare\n",
      "Survived  0.241533  -0.148165   -0.551296 -0.007932     6.974923\n",
      "Pclass   -0.148165   0.702663   -4.496004  0.052412   -24.583138\n",
      "Age      -0.551296  -4.496004  211.019125 -4.163334    73.849030\n",
      "SibSp    -0.007932   0.052412   -4.163334  0.864497     6.806212\n",
      "Fare      6.974923 -24.583138   73.849030  6.806212  2800.413100\n"
     ]
    },
    {
     "data": {
      "image/png": "[encoded data removed]",
      "text/plain": [
       "<Figure size 432x288 with 2 Axes>"
      ]
     },
     "metadata": {},
     "output_type": "display_data"
    },
    {
     "name": "stdout",
     "output_type": "stream",
     "text": [
      "          Survived    Pclass       Age     SibSp      Fare\n",
      "Survived  1.000000 -0.359653 -0.077221 -0.017358  0.268189\n",
      "Pclass   -0.359653  1.000000 -0.369226  0.067247 -0.554182\n",
      "Age      -0.077221 -0.369226  1.000000 -0.308247  0.096067\n",
      "SibSp    -0.017358  0.067247 -0.308247  1.000000  0.138329\n",
      "Fare      0.268189 -0.554182  0.096067  0.138329  1.000000\n"
     ]
    }
   ],
   "source": [
    "import seaborn as sns\n",
    "\n",
    "cov = titanic.dropna().cov()\n",
    "sns.heatmap(cov)\n",
    "plt.title(\"Covariance\")\n",
    "plt.show()\n",
    "print(cov)\n",
    "\n",
    "corr = titanic.dropna().corr()\n",
    "sns.heatmap(corr)\n",
    "plt.title(\"Correlation\")\n",
    "plt.show()\n",
    "print(corr)"
   ]
  },
  {
   "cell_type": "code",
   "execution_count": 8,
   "metadata": {
    "scrolled": true
   },
   "outputs": [
    {
     "data": {
      "image/png": "[encoded data removed]",
      "text/plain": [
       "<Figure size 432x288 with 2 Axes>"
      ]
     },
     "metadata": {},
     "output_type": "display_data"
    },
    {
     "name": "stdout",
     "output_type": "stream",
     "text": [
      "           Pclass         Age      SibSp        Fare\n",
      "Pclass   0.541409   -4.575633   0.119178  -11.949161\n",
      "Age     -4.575633  200.848698  -5.977868   34.252812\n",
      "SibSp    0.119178   -5.977868   1.659972   11.408593\n",
      "Fare   -11.949161   34.252812  11.408593  985.219509\n"
     ]
    },
    {
     "data": {
      "image/png": "[encoded data removed]",
      "text/plain": [
       "<Figure size 432x288 with 2 Axes>"
      ]
     },
     "metadata": {},
     "output_type": "display_data"
    },
    {
     "name": "stdout",
     "output_type": "stream",
     "text": [
      "          Pclass       Age     SibSp      Fare\n",
      "Pclass  1.000000 -0.434168  0.125714 -0.517378\n",
      "Age    -0.434168  1.000000 -0.403734  0.076852\n",
      "SibSp   0.125714 -0.403734  1.000000  0.282108\n",
      "Fare   -0.517378  0.076852  0.282108  1.000000\n"
     ]
    },
    {
     "data": {
      "image/png": "[encoded data removed]",
      "text/plain": [
       "<Figure size 432x288 with 2 Axes>"
      ]
     },
     "metadata": {},
     "output_type": "display_data"
    },
    {
     "name": "stdout",
     "output_type": "stream",
     "text": [
      "           Pclass         Age     SibSp         Fare\n",
      "Pclass   0.745322   -5.229355 -0.020374   -30.939233\n",
      "Age     -5.229355  223.530965 -1.566532   171.337421\n",
      "SibSp   -0.020374   -1.566532  0.502238     5.799799\n",
      "Fare   -30.939233  171.337421  5.799799  4435.160158\n"
     ]
    },
    {
     "data": {
      "image/png": "[encoded data removed]",
      "text/plain": [
       "<Figure size 432x288 with 2 Axes>"
      ]
     },
     "metadata": {},
     "output_type": "display_data"
    },
    {
     "name": "stdout",
     "output_type": "stream",
     "text": [
      "          Pclass       Age     SibSp      Fare\n",
      "Pclass  1.000000 -0.418073 -0.033300 -0.538125\n",
      "Age    -0.418073  1.000000 -0.143309  0.162648\n",
      "SibSp  -0.033300 -0.143309  1.000000  0.122886\n",
      "Fare   -0.538125  0.162648  0.122886  1.000000\n"
     ]
    }
   ],
   "source": [
    "for c in titanic.iloc[:, 0].unique():\n",
    "    cov = titanic[titanic.iloc[:, 0] == c].iloc[:, 1:5].cov()\n",
    "    sns.heatmap(cov)\n",
    "    plt.title(\"Covariance: class \" + str(c))\n",
    "    plt.show()\n",
    "    print(cov)\n",
    "\n",
    "    corr = titanic[titanic.iloc[:, 0] == c].iloc[:, 1:5].corr()\n",
    "    sns.heatmap(corr)\n",
    "    plt.title(\"Correlation: class \" + str(c))\n",
    "    plt.show()\n",
    "    print(corr)"
   ]
  },
  {
   "cell_type": "markdown",
   "metadata": {},
   "source": [
    "A covariância é uma medida de inter-relação entre variáveis; correlação indica a força da relação linear entre duas variáveis. Um dado interessante extraído sobre o atributo Fare é que ele tem covariâncias altas com todos os atributos, porém isso se explica pelo fato dele ter outliers de valores muito altos, logo suas covariâncias não são tão interessantes para a análise. "
   ]
  },
  {
   "cell_type": "markdown",
   "metadata": {},
   "source": [
    "### Questão 4)\n",
    "**Gere em um único gráfico os scatter plots dos atributos selecionados, como no slide. Mude a cor dos exemplos de maneira a ajudar na interpretação do problema e a responder suas perguntas.**\n",
    "\n",
    "**Por exemplo, no iris se colorir os exemplos por classe é possível ver que a classe setosa não tem sobreposição com as outras duas para dois dos scatter plots.**\n",
    "\n",
    "**Além da separação entre classes, o scatter plot permite uma inspeção visual rápida de grupos (clusters).**"
   ]
  },
  {
   "cell_type": "code",
   "execution_count": 9,
   "metadata": {
    "scrolled": true
   },
   "outputs": [
    {
     "data": {
      "image/png": "[encoded data removed]",
      "text/plain": [
       "<Figure size 771.875x720 with 20 Axes>"
      ]
     },
     "metadata": {},
     "output_type": "display_data"
    }
   ],
   "source": [
    "columns = titanic.columns.tolist()\n",
    "sns.pairplot(data=titanic.dropna(), vars=columns[1:5], hue=columns[0])\n",
    "plt.show()"
   ]
  },
  {
   "cell_type": "markdown",
   "metadata": {},
   "source": [
    "Nesta base de dados, o *scatter plot* não mostra muitos possíveis *clusters* dos dados."
   ]
  },
  {
   "cell_type": "markdown",
   "metadata": {},
   "source": [
    "### Questão 5)\n",
    "**Explique como os gráficos permitem uma inspeção mais fácil e intuitiva de tendências, padrões e outliers? Se achar mais fácil use exemplos já explorados mas refaça os gráficos aqui para ilustrar seu ponto.**"
   ]
  },
  {
   "cell_type": "code",
   "execution_count": 23,
   "metadata": {},
   "outputs": [
    {
     "data": {
      "image/png": "[encoded data removed]",
      "text/plain": [
       "<Figure size 432x288 with 1 Axes>"
      ]
     },
     "metadata": {},
     "output_type": "display_data"
    },
    {
     "data": {
      "image/png": "[encoded data removed]",
      "text/plain": [
       "<Figure size 432x288 with 1 Axes>"
      ]
     },
     "metadata": {},
     "output_type": "display_data"
    }
   ],
   "source": [
    "col = 4\n",
    "plt.hist(titanic.iloc[:, col].dropna(), bins='auto')\n",
    "plt.title(columns[col])\n",
    "plt.show()\n",
    "\n",
    "plt.boxplot(titanic.iloc[:, col], vert=False)\n",
    "plt.title(columns[col])\n",
    "plt.show()"
   ]
  },
  {
   "cell_type": "markdown",
   "metadata": {},
   "source": [
    "Nos gráficos acima podemos perceber uma tendência de poucas pessoas terem pago uma taxa alta e muitas terem pago pouca ou nenhuma taxa. Além deste padrão, podemos perceber pelo boxplot os outliers. Estes são melhor vistos pelo boxplot ao invés do histograma, já que nele temos os quartis."
   ]
  },
  {
   "cell_type": "markdown",
   "metadata": {},
   "source": [
    "### Questão 6)\n",
    "**Após a análise exploratória reanalise as hipóteses/questões e comente se elas já podem ser respondidas, se elas não fazem mais sentido, eventualmente se elas podem ser reformuladas.**"
   ]
  },
  {
   "cell_type": "markdown",
   "metadata": {},
   "source": [
    "- A classe de passagem influenciou na sobrevivência das pessoas?\n",
    "Como visto nos histogramas, principalmente no histograma de Pclass com classes, a classe de passagem teve um impacto grande na sobrevivência ou não da pessoa. As de 3ª classe foram a maior parte das vítimas.\n",
    "- Pclass e Fare são relacionados.\n",
    "A análise multivariada nos revela que a covariância é aproximadamente -24.6, indicando que as variáveis são inversamente proporcionais, e a correlação vale aproximadamente -0.55, o que nos indica uma associação inversa com força média entre elas.\n",
    "- A faixa de idade das pessoas foi um fator determinante para sua sobrevivência? (independentemente de gênero)\n",
    "O scatter plot indica uma possível relação, porém a distribuição das idades não é igual em todo o espectro, o que torna esta análise somente com o scatter plot complicada. A análise multivariada também não mostra que há uma relação entre a idade e a sobrevivência"
   ]
  },
  {
   "cell_type": "code",
   "execution_count": null,
   "metadata": {},
   "outputs": [],
   "source": [
    "# Segunda parte: Agro"
   ]
  },
  {
   "cell_type": "code",
   "execution_count": 2,
   "metadata": {
    "scrolled": true
   },
   "outputs": [
    {
     "data": {
      "text/html": [
       "<div>\n",
       "<style scoped>\n",
       "    .dataframe tbody tr th:only-of-type {\n",
       "        vertical-align: middle;\n",
       "    }\n",
       "\n",
       "    .dataframe tbody tr th {\n",
       "        vertical-align: top;\n",
       "    }\n",
       "\n",
       "    .dataframe thead th {\n",
       "        text-align: right;\n",
       "    }\n",
       "</style>\n",
       "<table border=\"1\" class=\"dataframe\">\n",
       "  <thead>\n",
       "    <tr style=\"text-align: right;\">\n",
       "      <th></th>\n",
       "      <th>Perc_Falha</th>\n",
       "      <th>Ciclo</th>\n",
       "      <th>Ph</th>\n",
       "      <th>Mo</th>\n",
       "      <th>P</th>\n",
       "      <th>K</th>\n",
       "      <th>Ca</th>\n",
       "      <th>Mg</th>\n",
       "      <th>H_al</th>\n",
       "      <th>Al</th>\n",
       "      <th>S</th>\n",
       "      <th>CORR_T</th>\n",
       "    </tr>\n",
       "  </thead>\n",
       "  <tbody>\n",
       "    <tr>\n",
       "      <th>0</th>\n",
       "      <td>0.0039</td>\n",
       "      <td>18M</td>\n",
       "      <td>NaN</td>\n",
       "      <td>NaN</td>\n",
       "      <td>NaN</td>\n",
       "      <td>NaN</td>\n",
       "      <td>NaN</td>\n",
       "      <td>NaN</td>\n",
       "      <td>NaN</td>\n",
       "      <td>NaN</td>\n",
       "      <td>NaN</td>\n",
       "      <td>0.00</td>\n",
       "    </tr>\n",
       "    <tr>\n",
       "      <th>1</th>\n",
       "      <td>0.0016</td>\n",
       "      <td>18M</td>\n",
       "      <td>NaN</td>\n",
       "      <td>NaN</td>\n",
       "      <td>NaN</td>\n",
       "      <td>NaN</td>\n",
       "      <td>NaN</td>\n",
       "      <td>NaN</td>\n",
       "      <td>NaN</td>\n",
       "      <td>NaN</td>\n",
       "      <td>NaN</td>\n",
       "      <td>0.00</td>\n",
       "    </tr>\n",
       "    <tr>\n",
       "      <th>2</th>\n",
       "      <td>0.0019</td>\n",
       "      <td>18M</td>\n",
       "      <td>NaN</td>\n",
       "      <td>NaN</td>\n",
       "      <td>NaN</td>\n",
       "      <td>NaN</td>\n",
       "      <td>NaN</td>\n",
       "      <td>NaN</td>\n",
       "      <td>NaN</td>\n",
       "      <td>NaN</td>\n",
       "      <td>NaN</td>\n",
       "      <td>0.00</td>\n",
       "    </tr>\n",
       "    <tr>\n",
       "      <th>3</th>\n",
       "      <td>0.0182</td>\n",
       "      <td>18M</td>\n",
       "      <td>4.65</td>\n",
       "      <td>8.50</td>\n",
       "      <td>6.5</td>\n",
       "      <td>2.775</td>\n",
       "      <td>10.060</td>\n",
       "      <td>6.705</td>\n",
       "      <td>16.000</td>\n",
       "      <td>1.440</td>\n",
       "      <td>0.0</td>\n",
       "      <td>0.47</td>\n",
       "    </tr>\n",
       "    <tr>\n",
       "      <th>4</th>\n",
       "      <td>0.0214</td>\n",
       "      <td>18M</td>\n",
       "      <td>4.65</td>\n",
       "      <td>7.00</td>\n",
       "      <td>6.5</td>\n",
       "      <td>2.470</td>\n",
       "      <td>9.495</td>\n",
       "      <td>7.305</td>\n",
       "      <td>19.000</td>\n",
       "      <td>1.515</td>\n",
       "      <td>0.0</td>\n",
       "      <td>0.33</td>\n",
       "    </tr>\n",
       "    <tr>\n",
       "      <th>5</th>\n",
       "      <td>0.0153</td>\n",
       "      <td>18M</td>\n",
       "      <td>4.65</td>\n",
       "      <td>7.00</td>\n",
       "      <td>6.5</td>\n",
       "      <td>2.470</td>\n",
       "      <td>9.495</td>\n",
       "      <td>7.305</td>\n",
       "      <td>19.000</td>\n",
       "      <td>1.515</td>\n",
       "      <td>0.0</td>\n",
       "      <td>0.32</td>\n",
       "    </tr>\n",
       "    <tr>\n",
       "      <th>6</th>\n",
       "      <td>0.0056</td>\n",
       "      <td>18M</td>\n",
       "      <td>4.75</td>\n",
       "      <td>9.50</td>\n",
       "      <td>6.0</td>\n",
       "      <td>2.780</td>\n",
       "      <td>10.970</td>\n",
       "      <td>7.535</td>\n",
       "      <td>17.500</td>\n",
       "      <td>0.580</td>\n",
       "      <td>0.0</td>\n",
       "      <td>0.32</td>\n",
       "    </tr>\n",
       "    <tr>\n",
       "      <th>7</th>\n",
       "      <td>0.0073</td>\n",
       "      <td>18M</td>\n",
       "      <td>4.75</td>\n",
       "      <td>9.50</td>\n",
       "      <td>6.0</td>\n",
       "      <td>2.780</td>\n",
       "      <td>10.970</td>\n",
       "      <td>7.535</td>\n",
       "      <td>17.500</td>\n",
       "      <td>0.580</td>\n",
       "      <td>0.0</td>\n",
       "      <td>0.32</td>\n",
       "    </tr>\n",
       "    <tr>\n",
       "      <th>8</th>\n",
       "      <td>0.1040</td>\n",
       "      <td>18M</td>\n",
       "      <td>NaN</td>\n",
       "      <td>NaN</td>\n",
       "      <td>NaN</td>\n",
       "      <td>NaN</td>\n",
       "      <td>NaN</td>\n",
       "      <td>NaN</td>\n",
       "      <td>NaN</td>\n",
       "      <td>NaN</td>\n",
       "      <td>NaN</td>\n",
       "      <td>0.00</td>\n",
       "    </tr>\n",
       "    <tr>\n",
       "      <th>9</th>\n",
       "      <td>0.0062</td>\n",
       "      <td>18M</td>\n",
       "      <td>4.40</td>\n",
       "      <td>8.50</td>\n",
       "      <td>25.5</td>\n",
       "      <td>1.620</td>\n",
       "      <td>8.480</td>\n",
       "      <td>4.135</td>\n",
       "      <td>24.000</td>\n",
       "      <td>2.590</td>\n",
       "      <td>0.0</td>\n",
       "      <td>3.92</td>\n",
       "    </tr>\n",
       "    <tr>\n",
       "      <th>10</th>\n",
       "      <td>0.0360</td>\n",
       "      <td>18M</td>\n",
       "      <td>NaN</td>\n",
       "      <td>NaN</td>\n",
       "      <td>NaN</td>\n",
       "      <td>NaN</td>\n",
       "      <td>NaN</td>\n",
       "      <td>NaN</td>\n",
       "      <td>NaN</td>\n",
       "      <td>NaN</td>\n",
       "      <td>NaN</td>\n",
       "      <td>0.00</td>\n",
       "    </tr>\n",
       "    <tr>\n",
       "      <th>11</th>\n",
       "      <td>0.0465</td>\n",
       "      <td>18M</td>\n",
       "      <td>NaN</td>\n",
       "      <td>NaN</td>\n",
       "      <td>NaN</td>\n",
       "      <td>NaN</td>\n",
       "      <td>NaN</td>\n",
       "      <td>NaN</td>\n",
       "      <td>NaN</td>\n",
       "      <td>NaN</td>\n",
       "      <td>NaN</td>\n",
       "      <td>0.00</td>\n",
       "    </tr>\n",
       "    <tr>\n",
       "      <th>12</th>\n",
       "      <td>0.0689</td>\n",
       "      <td>18M</td>\n",
       "      <td>NaN</td>\n",
       "      <td>NaN</td>\n",
       "      <td>NaN</td>\n",
       "      <td>NaN</td>\n",
       "      <td>NaN</td>\n",
       "      <td>NaN</td>\n",
       "      <td>NaN</td>\n",
       "      <td>NaN</td>\n",
       "      <td>NaN</td>\n",
       "      <td>0.00</td>\n",
       "    </tr>\n",
       "    <tr>\n",
       "      <th>13</th>\n",
       "      <td>0.0589</td>\n",
       "      <td>18M</td>\n",
       "      <td>NaN</td>\n",
       "      <td>NaN</td>\n",
       "      <td>NaN</td>\n",
       "      <td>NaN</td>\n",
       "      <td>NaN</td>\n",
       "      <td>NaN</td>\n",
       "      <td>NaN</td>\n",
       "      <td>NaN</td>\n",
       "      <td>NaN</td>\n",
       "      <td>0.00</td>\n",
       "    </tr>\n",
       "    <tr>\n",
       "      <th>14</th>\n",
       "      <td>0.0843</td>\n",
       "      <td>18M</td>\n",
       "      <td>NaN</td>\n",
       "      <td>NaN</td>\n",
       "      <td>NaN</td>\n",
       "      <td>NaN</td>\n",
       "      <td>NaN</td>\n",
       "      <td>NaN</td>\n",
       "      <td>NaN</td>\n",
       "      <td>NaN</td>\n",
       "      <td>NaN</td>\n",
       "      <td>0.00</td>\n",
       "    </tr>\n",
       "    <tr>\n",
       "      <th>15</th>\n",
       "      <td>0.1481</td>\n",
       "      <td>18M</td>\n",
       "      <td>NaN</td>\n",
       "      <td>NaN</td>\n",
       "      <td>NaN</td>\n",
       "      <td>NaN</td>\n",
       "      <td>NaN</td>\n",
       "      <td>NaN</td>\n",
       "      <td>NaN</td>\n",
       "      <td>NaN</td>\n",
       "      <td>NaN</td>\n",
       "      <td>0.00</td>\n",
       "    </tr>\n",
       "    <tr>\n",
       "      <th>16</th>\n",
       "      <td>0.1770</td>\n",
       "      <td>18M</td>\n",
       "      <td>NaN</td>\n",
       "      <td>NaN</td>\n",
       "      <td>NaN</td>\n",
       "      <td>NaN</td>\n",
       "      <td>NaN</td>\n",
       "      <td>NaN</td>\n",
       "      <td>NaN</td>\n",
       "      <td>NaN</td>\n",
       "      <td>NaN</td>\n",
       "      <td>0.00</td>\n",
       "    </tr>\n",
       "    <tr>\n",
       "      <th>17</th>\n",
       "      <td>0.2006</td>\n",
       "      <td>18M</td>\n",
       "      <td>NaN</td>\n",
       "      <td>NaN</td>\n",
       "      <td>NaN</td>\n",
       "      <td>NaN</td>\n",
       "      <td>NaN</td>\n",
       "      <td>NaN</td>\n",
       "      <td>NaN</td>\n",
       "      <td>NaN</td>\n",
       "      <td>NaN</td>\n",
       "      <td>0.00</td>\n",
       "    </tr>\n",
       "    <tr>\n",
       "      <th>18</th>\n",
       "      <td>0.2853</td>\n",
       "      <td>18M</td>\n",
       "      <td>NaN</td>\n",
       "      <td>NaN</td>\n",
       "      <td>NaN</td>\n",
       "      <td>NaN</td>\n",
       "      <td>NaN</td>\n",
       "      <td>NaN</td>\n",
       "      <td>NaN</td>\n",
       "      <td>NaN</td>\n",
       "      <td>NaN</td>\n",
       "      <td>0.00</td>\n",
       "    </tr>\n",
       "    <tr>\n",
       "      <th>19</th>\n",
       "      <td>0.0074</td>\n",
       "      <td>18M</td>\n",
       "      <td>4.40</td>\n",
       "      <td>8.50</td>\n",
       "      <td>25.5</td>\n",
       "      <td>1.620</td>\n",
       "      <td>8.480</td>\n",
       "      <td>4.135</td>\n",
       "      <td>24.000</td>\n",
       "      <td>2.590</td>\n",
       "      <td>0.0</td>\n",
       "      <td>2.98</td>\n",
       "    </tr>\n",
       "    <tr>\n",
       "      <th>20</th>\n",
       "      <td>0.2624</td>\n",
       "      <td>18M</td>\n",
       "      <td>NaN</td>\n",
       "      <td>NaN</td>\n",
       "      <td>NaN</td>\n",
       "      <td>NaN</td>\n",
       "      <td>NaN</td>\n",
       "      <td>NaN</td>\n",
       "      <td>NaN</td>\n",
       "      <td>NaN</td>\n",
       "      <td>NaN</td>\n",
       "      <td>0.00</td>\n",
       "    </tr>\n",
       "    <tr>\n",
       "      <th>21</th>\n",
       "      <td>0.1032</td>\n",
       "      <td>18M</td>\n",
       "      <td>NaN</td>\n",
       "      <td>NaN</td>\n",
       "      <td>NaN</td>\n",
       "      <td>NaN</td>\n",
       "      <td>NaN</td>\n",
       "      <td>NaN</td>\n",
       "      <td>NaN</td>\n",
       "      <td>NaN</td>\n",
       "      <td>NaN</td>\n",
       "      <td>0.00</td>\n",
       "    </tr>\n",
       "    <tr>\n",
       "      <th>22</th>\n",
       "      <td>0.0036</td>\n",
       "      <td>18M</td>\n",
       "      <td>3.95</td>\n",
       "      <td>12.50</td>\n",
       "      <td>7.5</td>\n",
       "      <td>1.725</td>\n",
       "      <td>6.885</td>\n",
       "      <td>2.050</td>\n",
       "      <td>18.000</td>\n",
       "      <td>3.480</td>\n",
       "      <td>0.0</td>\n",
       "      <td>1.47</td>\n",
       "    </tr>\n",
       "    <tr>\n",
       "      <th>23</th>\n",
       "      <td>0.0026</td>\n",
       "      <td>18M</td>\n",
       "      <td>3.95</td>\n",
       "      <td>12.50</td>\n",
       "      <td>7.5</td>\n",
       "      <td>1.725</td>\n",
       "      <td>6.885</td>\n",
       "      <td>2.050</td>\n",
       "      <td>18.000</td>\n",
       "      <td>3.480</td>\n",
       "      <td>0.0</td>\n",
       "      <td>1.47</td>\n",
       "    </tr>\n",
       "    <tr>\n",
       "      <th>24</th>\n",
       "      <td>0.0040</td>\n",
       "      <td>18M</td>\n",
       "      <td>3.95</td>\n",
       "      <td>12.50</td>\n",
       "      <td>7.5</td>\n",
       "      <td>1.725</td>\n",
       "      <td>6.885</td>\n",
       "      <td>2.050</td>\n",
       "      <td>18.000</td>\n",
       "      <td>3.480</td>\n",
       "      <td>0.0</td>\n",
       "      <td>1.47</td>\n",
       "    </tr>\n",
       "    <tr>\n",
       "      <th>25</th>\n",
       "      <td>0.0058</td>\n",
       "      <td>18M</td>\n",
       "      <td>NaN</td>\n",
       "      <td>NaN</td>\n",
       "      <td>NaN</td>\n",
       "      <td>NaN</td>\n",
       "      <td>NaN</td>\n",
       "      <td>NaN</td>\n",
       "      <td>NaN</td>\n",
       "      <td>NaN</td>\n",
       "      <td>NaN</td>\n",
       "      <td>0.00</td>\n",
       "    </tr>\n",
       "    <tr>\n",
       "      <th>26</th>\n",
       "      <td>0.0560</td>\n",
       "      <td>18M</td>\n",
       "      <td>NaN</td>\n",
       "      <td>NaN</td>\n",
       "      <td>NaN</td>\n",
       "      <td>NaN</td>\n",
       "      <td>NaN</td>\n",
       "      <td>NaN</td>\n",
       "      <td>NaN</td>\n",
       "      <td>NaN</td>\n",
       "      <td>NaN</td>\n",
       "      <td>0.00</td>\n",
       "    </tr>\n",
       "    <tr>\n",
       "      <th>27</th>\n",
       "      <td>0.1174</td>\n",
       "      <td>18M</td>\n",
       "      <td>NaN</td>\n",
       "      <td>NaN</td>\n",
       "      <td>NaN</td>\n",
       "      <td>NaN</td>\n",
       "      <td>NaN</td>\n",
       "      <td>NaN</td>\n",
       "      <td>NaN</td>\n",
       "      <td>NaN</td>\n",
       "      <td>NaN</td>\n",
       "      <td>0.00</td>\n",
       "    </tr>\n",
       "    <tr>\n",
       "      <th>28</th>\n",
       "      <td>0.0783</td>\n",
       "      <td>18M</td>\n",
       "      <td>NaN</td>\n",
       "      <td>NaN</td>\n",
       "      <td>NaN</td>\n",
       "      <td>NaN</td>\n",
       "      <td>NaN</td>\n",
       "      <td>NaN</td>\n",
       "      <td>NaN</td>\n",
       "      <td>NaN</td>\n",
       "      <td>NaN</td>\n",
       "      <td>0.00</td>\n",
       "    </tr>\n",
       "    <tr>\n",
       "      <th>29</th>\n",
       "      <td>0.0567</td>\n",
       "      <td>18M</td>\n",
       "      <td>3.90</td>\n",
       "      <td>9.50</td>\n",
       "      <td>6.0</td>\n",
       "      <td>0.690</td>\n",
       "      <td>5.190</td>\n",
       "      <td>2.780</td>\n",
       "      <td>26.500</td>\n",
       "      <td>4.070</td>\n",
       "      <td>0.0</td>\n",
       "      <td>2.00</td>\n",
       "    </tr>\n",
       "    <tr>\n",
       "      <th>...</th>\n",
       "      <td>...</td>\n",
       "      <td>...</td>\n",
       "      <td>...</td>\n",
       "      <td>...</td>\n",
       "      <td>...</td>\n",
       "      <td>...</td>\n",
       "      <td>...</td>\n",
       "      <td>...</td>\n",
       "      <td>...</td>\n",
       "      <td>...</td>\n",
       "      <td>...</td>\n",
       "      <td>...</td>\n",
       "    </tr>\n",
       "    <tr>\n",
       "      <th>6272</th>\n",
       "      <td>0.0023</td>\n",
       "      <td>Inverno</td>\n",
       "      <td>6.35</td>\n",
       "      <td>6.40</td>\n",
       "      <td>4.0</td>\n",
       "      <td>2.840</td>\n",
       "      <td>11.080</td>\n",
       "      <td>3.830</td>\n",
       "      <td>11.820</td>\n",
       "      <td>3.085</td>\n",
       "      <td>0.0</td>\n",
       "      <td>0.00</td>\n",
       "    </tr>\n",
       "    <tr>\n",
       "      <th>6273</th>\n",
       "      <td>0.0007</td>\n",
       "      <td>Inverno</td>\n",
       "      <td>6.35</td>\n",
       "      <td>6.40</td>\n",
       "      <td>4.0</td>\n",
       "      <td>2.840</td>\n",
       "      <td>11.080</td>\n",
       "      <td>3.830</td>\n",
       "      <td>11.820</td>\n",
       "      <td>3.085</td>\n",
       "      <td>0.0</td>\n",
       "      <td>0.00</td>\n",
       "    </tr>\n",
       "    <tr>\n",
       "      <th>6274</th>\n",
       "      <td>0.0020</td>\n",
       "      <td>Inverno</td>\n",
       "      <td>6.35</td>\n",
       "      <td>6.40</td>\n",
       "      <td>4.0</td>\n",
       "      <td>2.840</td>\n",
       "      <td>11.080</td>\n",
       "      <td>3.830</td>\n",
       "      <td>11.820</td>\n",
       "      <td>3.085</td>\n",
       "      <td>0.0</td>\n",
       "      <td>0.00</td>\n",
       "    </tr>\n",
       "    <tr>\n",
       "      <th>6275</th>\n",
       "      <td>0.0287</td>\n",
       "      <td>Inverno</td>\n",
       "      <td>5.80</td>\n",
       "      <td>7.75</td>\n",
       "      <td>2.0</td>\n",
       "      <td>3.750</td>\n",
       "      <td>8.145</td>\n",
       "      <td>5.150</td>\n",
       "      <td>9.180</td>\n",
       "      <td>9.300</td>\n",
       "      <td>0.0</td>\n",
       "      <td>0.00</td>\n",
       "    </tr>\n",
       "    <tr>\n",
       "      <th>6276</th>\n",
       "      <td>0.0417</td>\n",
       "      <td>Inverno</td>\n",
       "      <td>5.60</td>\n",
       "      <td>6.60</td>\n",
       "      <td>2.0</td>\n",
       "      <td>1.020</td>\n",
       "      <td>5.795</td>\n",
       "      <td>3.270</td>\n",
       "      <td>11.065</td>\n",
       "      <td>10.645</td>\n",
       "      <td>0.0</td>\n",
       "      <td>0.00</td>\n",
       "    </tr>\n",
       "    <tr>\n",
       "      <th>6277</th>\n",
       "      <td>0.0440</td>\n",
       "      <td>Inverno</td>\n",
       "      <td>6.65</td>\n",
       "      <td>7.65</td>\n",
       "      <td>2.0</td>\n",
       "      <td>4.490</td>\n",
       "      <td>4.515</td>\n",
       "      <td>4.065</td>\n",
       "      <td>8.835</td>\n",
       "      <td>11.755</td>\n",
       "      <td>0.0</td>\n",
       "      <td>0.00</td>\n",
       "    </tr>\n",
       "    <tr>\n",
       "      <th>6278</th>\n",
       "      <td>0.0209</td>\n",
       "      <td>Inverno</td>\n",
       "      <td>7.05</td>\n",
       "      <td>7.50</td>\n",
       "      <td>3.0</td>\n",
       "      <td>1.135</td>\n",
       "      <td>2.665</td>\n",
       "      <td>2.425</td>\n",
       "      <td>13.030</td>\n",
       "      <td>12.525</td>\n",
       "      <td>0.0</td>\n",
       "      <td>0.00</td>\n",
       "    </tr>\n",
       "    <tr>\n",
       "      <th>6279</th>\n",
       "      <td>0.0348</td>\n",
       "      <td>Inverno</td>\n",
       "      <td>5.60</td>\n",
       "      <td>6.60</td>\n",
       "      <td>2.0</td>\n",
       "      <td>1.020</td>\n",
       "      <td>5.795</td>\n",
       "      <td>3.270</td>\n",
       "      <td>11.065</td>\n",
       "      <td>10.645</td>\n",
       "      <td>0.0</td>\n",
       "      <td>0.00</td>\n",
       "    </tr>\n",
       "    <tr>\n",
       "      <th>6280</th>\n",
       "      <td>0.0107</td>\n",
       "      <td>Inverno</td>\n",
       "      <td>5.60</td>\n",
       "      <td>6.60</td>\n",
       "      <td>2.0</td>\n",
       "      <td>1.020</td>\n",
       "      <td>5.795</td>\n",
       "      <td>3.270</td>\n",
       "      <td>11.065</td>\n",
       "      <td>10.645</td>\n",
       "      <td>0.0</td>\n",
       "      <td>0.00</td>\n",
       "    </tr>\n",
       "    <tr>\n",
       "      <th>6281</th>\n",
       "      <td>0.0151</td>\n",
       "      <td>Inverno</td>\n",
       "      <td>5.60</td>\n",
       "      <td>6.60</td>\n",
       "      <td>2.0</td>\n",
       "      <td>1.020</td>\n",
       "      <td>5.795</td>\n",
       "      <td>3.270</td>\n",
       "      <td>11.065</td>\n",
       "      <td>10.645</td>\n",
       "      <td>0.0</td>\n",
       "      <td>0.00</td>\n",
       "    </tr>\n",
       "    <tr>\n",
       "      <th>6282</th>\n",
       "      <td>0.0157</td>\n",
       "      <td>Inverno</td>\n",
       "      <td>7.85</td>\n",
       "      <td>7.70</td>\n",
       "      <td>3.5</td>\n",
       "      <td>5.920</td>\n",
       "      <td>19.290</td>\n",
       "      <td>7.065</td>\n",
       "      <td>10.485</td>\n",
       "      <td>12.240</td>\n",
       "      <td>0.0</td>\n",
       "      <td>0.00</td>\n",
       "    </tr>\n",
       "    <tr>\n",
       "      <th>6283</th>\n",
       "      <td>0.0866</td>\n",
       "      <td>Inverno</td>\n",
       "      <td>7.05</td>\n",
       "      <td>8.00</td>\n",
       "      <td>4.0</td>\n",
       "      <td>2.300</td>\n",
       "      <td>2.935</td>\n",
       "      <td>2.450</td>\n",
       "      <td>14.735</td>\n",
       "      <td>12.550</td>\n",
       "      <td>0.0</td>\n",
       "      <td>0.00</td>\n",
       "    </tr>\n",
       "    <tr>\n",
       "      <th>6284</th>\n",
       "      <td>0.0108</td>\n",
       "      <td>Inverno</td>\n",
       "      <td>7.85</td>\n",
       "      <td>7.70</td>\n",
       "      <td>3.5</td>\n",
       "      <td>5.920</td>\n",
       "      <td>19.290</td>\n",
       "      <td>7.065</td>\n",
       "      <td>10.485</td>\n",
       "      <td>12.240</td>\n",
       "      <td>0.0</td>\n",
       "      <td>0.00</td>\n",
       "    </tr>\n",
       "    <tr>\n",
       "      <th>6285</th>\n",
       "      <td>0.0160</td>\n",
       "      <td>Inverno</td>\n",
       "      <td>7.85</td>\n",
       "      <td>7.70</td>\n",
       "      <td>3.5</td>\n",
       "      <td>5.920</td>\n",
       "      <td>19.290</td>\n",
       "      <td>7.065</td>\n",
       "      <td>10.485</td>\n",
       "      <td>12.240</td>\n",
       "      <td>0.0</td>\n",
       "      <td>0.00</td>\n",
       "    </tr>\n",
       "    <tr>\n",
       "      <th>6286</th>\n",
       "      <td>0.0092</td>\n",
       "      <td>Inverno</td>\n",
       "      <td>7.85</td>\n",
       "      <td>7.70</td>\n",
       "      <td>3.5</td>\n",
       "      <td>5.920</td>\n",
       "      <td>19.290</td>\n",
       "      <td>7.065</td>\n",
       "      <td>10.485</td>\n",
       "      <td>12.240</td>\n",
       "      <td>0.0</td>\n",
       "      <td>0.00</td>\n",
       "    </tr>\n",
       "    <tr>\n",
       "      <th>6287</th>\n",
       "      <td>0.0290</td>\n",
       "      <td>Inverno</td>\n",
       "      <td>5.90</td>\n",
       "      <td>8.35</td>\n",
       "      <td>2.5</td>\n",
       "      <td>2.660</td>\n",
       "      <td>12.105</td>\n",
       "      <td>4.010</td>\n",
       "      <td>10.125</td>\n",
       "      <td>9.595</td>\n",
       "      <td>0.0</td>\n",
       "      <td>0.00</td>\n",
       "    </tr>\n",
       "    <tr>\n",
       "      <th>6288</th>\n",
       "      <td>0.0080</td>\n",
       "      <td>Inverno</td>\n",
       "      <td>5.90</td>\n",
       "      <td>8.35</td>\n",
       "      <td>2.5</td>\n",
       "      <td>2.660</td>\n",
       "      <td>12.105</td>\n",
       "      <td>4.010</td>\n",
       "      <td>10.125</td>\n",
       "      <td>9.595</td>\n",
       "      <td>0.0</td>\n",
       "      <td>0.00</td>\n",
       "    </tr>\n",
       "    <tr>\n",
       "      <th>6289</th>\n",
       "      <td>0.0105</td>\n",
       "      <td>Inverno</td>\n",
       "      <td>7.90</td>\n",
       "      <td>6.40</td>\n",
       "      <td>3.0</td>\n",
       "      <td>1.875</td>\n",
       "      <td>19.840</td>\n",
       "      <td>9.905</td>\n",
       "      <td>8.150</td>\n",
       "      <td>8.175</td>\n",
       "      <td>0.0</td>\n",
       "      <td>0.00</td>\n",
       "    </tr>\n",
       "    <tr>\n",
       "      <th>6290</th>\n",
       "      <td>0.0150</td>\n",
       "      <td>Inverno</td>\n",
       "      <td>6.35</td>\n",
       "      <td>7.50</td>\n",
       "      <td>3.0</td>\n",
       "      <td>2.360</td>\n",
       "      <td>12.260</td>\n",
       "      <td>3.650</td>\n",
       "      <td>11.955</td>\n",
       "      <td>9.525</td>\n",
       "      <td>0.0</td>\n",
       "      <td>0.00</td>\n",
       "    </tr>\n",
       "    <tr>\n",
       "      <th>6291</th>\n",
       "      <td>0.0094</td>\n",
       "      <td>Inverno</td>\n",
       "      <td>7.35</td>\n",
       "      <td>9.45</td>\n",
       "      <td>2.0</td>\n",
       "      <td>2.320</td>\n",
       "      <td>32.585</td>\n",
       "      <td>9.300</td>\n",
       "      <td>8.510</td>\n",
       "      <td>8.510</td>\n",
       "      <td>0.0</td>\n",
       "      <td>0.00</td>\n",
       "    </tr>\n",
       "    <tr>\n",
       "      <th>6292</th>\n",
       "      <td>0.0096</td>\n",
       "      <td>Inverno</td>\n",
       "      <td>7.90</td>\n",
       "      <td>6.40</td>\n",
       "      <td>3.0</td>\n",
       "      <td>1.875</td>\n",
       "      <td>19.840</td>\n",
       "      <td>9.905</td>\n",
       "      <td>8.150</td>\n",
       "      <td>8.175</td>\n",
       "      <td>0.0</td>\n",
       "      <td>0.00</td>\n",
       "    </tr>\n",
       "    <tr>\n",
       "      <th>6293</th>\n",
       "      <td>0.0095</td>\n",
       "      <td>Inverno</td>\n",
       "      <td>7.90</td>\n",
       "      <td>6.40</td>\n",
       "      <td>3.0</td>\n",
       "      <td>1.875</td>\n",
       "      <td>19.840</td>\n",
       "      <td>9.905</td>\n",
       "      <td>8.150</td>\n",
       "      <td>8.175</td>\n",
       "      <td>0.0</td>\n",
       "      <td>0.00</td>\n",
       "    </tr>\n",
       "    <tr>\n",
       "      <th>6294</th>\n",
       "      <td>0.0040</td>\n",
       "      <td>Inverno</td>\n",
       "      <td>7.35</td>\n",
       "      <td>9.45</td>\n",
       "      <td>2.0</td>\n",
       "      <td>2.320</td>\n",
       "      <td>32.585</td>\n",
       "      <td>9.300</td>\n",
       "      <td>8.510</td>\n",
       "      <td>8.510</td>\n",
       "      <td>0.0</td>\n",
       "      <td>0.00</td>\n",
       "    </tr>\n",
       "    <tr>\n",
       "      <th>6295</th>\n",
       "      <td>0.0094</td>\n",
       "      <td>Inverno</td>\n",
       "      <td>7.35</td>\n",
       "      <td>9.45</td>\n",
       "      <td>2.0</td>\n",
       "      <td>2.320</td>\n",
       "      <td>32.585</td>\n",
       "      <td>9.300</td>\n",
       "      <td>8.510</td>\n",
       "      <td>8.510</td>\n",
       "      <td>0.0</td>\n",
       "      <td>0.00</td>\n",
       "    </tr>\n",
       "    <tr>\n",
       "      <th>6296</th>\n",
       "      <td>0.0069</td>\n",
       "      <td>Inverno</td>\n",
       "      <td>7.90</td>\n",
       "      <td>6.40</td>\n",
       "      <td>3.0</td>\n",
       "      <td>1.875</td>\n",
       "      <td>19.840</td>\n",
       "      <td>9.905</td>\n",
       "      <td>8.150</td>\n",
       "      <td>8.175</td>\n",
       "      <td>0.0</td>\n",
       "      <td>0.00</td>\n",
       "    </tr>\n",
       "    <tr>\n",
       "      <th>6297</th>\n",
       "      <td>0.0095</td>\n",
       "      <td>Inverno</td>\n",
       "      <td>7.90</td>\n",
       "      <td>6.40</td>\n",
       "      <td>3.0</td>\n",
       "      <td>1.875</td>\n",
       "      <td>19.840</td>\n",
       "      <td>9.905</td>\n",
       "      <td>8.150</td>\n",
       "      <td>8.175</td>\n",
       "      <td>0.0</td>\n",
       "      <td>0.00</td>\n",
       "    </tr>\n",
       "    <tr>\n",
       "      <th>6298</th>\n",
       "      <td>0.0064</td>\n",
       "      <td>Inverno</td>\n",
       "      <td>7.90</td>\n",
       "      <td>6.40</td>\n",
       "      <td>3.0</td>\n",
       "      <td>1.875</td>\n",
       "      <td>19.840</td>\n",
       "      <td>9.905</td>\n",
       "      <td>8.150</td>\n",
       "      <td>8.175</td>\n",
       "      <td>0.0</td>\n",
       "      <td>0.00</td>\n",
       "    </tr>\n",
       "    <tr>\n",
       "      <th>6299</th>\n",
       "      <td>0.0109</td>\n",
       "      <td>Inverno</td>\n",
       "      <td>7.35</td>\n",
       "      <td>9.45</td>\n",
       "      <td>2.0</td>\n",
       "      <td>2.320</td>\n",
       "      <td>32.585</td>\n",
       "      <td>9.300</td>\n",
       "      <td>8.510</td>\n",
       "      <td>8.510</td>\n",
       "      <td>0.0</td>\n",
       "      <td>0.00</td>\n",
       "    </tr>\n",
       "    <tr>\n",
       "      <th>6300</th>\n",
       "      <td>0.0274</td>\n",
       "      <td>Inverno</td>\n",
       "      <td>5.30</td>\n",
       "      <td>7.55</td>\n",
       "      <td>4.0</td>\n",
       "      <td>3.105</td>\n",
       "      <td>4.390</td>\n",
       "      <td>2.720</td>\n",
       "      <td>9.760</td>\n",
       "      <td>10.780</td>\n",
       "      <td>0.0</td>\n",
       "      <td>0.00</td>\n",
       "    </tr>\n",
       "    <tr>\n",
       "      <th>6301</th>\n",
       "      <td>0.0337</td>\n",
       "      <td>Inverno</td>\n",
       "      <td>5.95</td>\n",
       "      <td>6.45</td>\n",
       "      <td>2.0</td>\n",
       "      <td>1.300</td>\n",
       "      <td>1.745</td>\n",
       "      <td>0.800</td>\n",
       "      <td>14.540</td>\n",
       "      <td>14.715</td>\n",
       "      <td>0.0</td>\n",
       "      <td>0.00</td>\n",
       "    </tr>\n",
       "  </tbody>\n",
       "</table>\n",
       "<p>6302 rows × 12 columns</p>\n",
       "</div>"
      ],
      "text/plain": [
       "      Perc_Falha    Ciclo    Ph     Mo     P      K      Ca     Mg    H_al  \\\n",
       "0         0.0039      18M   NaN    NaN   NaN    NaN     NaN    NaN     NaN   \n",
       "1         0.0016      18M   NaN    NaN   NaN    NaN     NaN    NaN     NaN   \n",
       "2         0.0019      18M   NaN    NaN   NaN    NaN     NaN    NaN     NaN   \n",
       "3         0.0182      18M  4.65   8.50   6.5  2.775  10.060  6.705  16.000   \n",
       "4         0.0214      18M  4.65   7.00   6.5  2.470   9.495  7.305  19.000   \n",
       "5         0.0153      18M  4.65   7.00   6.5  2.470   9.495  7.305  19.000   \n",
       "6         0.0056      18M  4.75   9.50   6.0  2.780  10.970  7.535  17.500   \n",
       "7         0.0073      18M  4.75   9.50   6.0  2.780  10.970  7.535  17.500   \n",
       "8         0.1040      18M   NaN    NaN   NaN    NaN     NaN    NaN     NaN   \n",
       "9         0.0062      18M  4.40   8.50  25.5  1.620   8.480  4.135  24.000   \n",
       "10        0.0360      18M   NaN    NaN   NaN    NaN     NaN    NaN     NaN   \n",
       "11        0.0465      18M   NaN    NaN   NaN    NaN     NaN    NaN     NaN   \n",
       "12        0.0689      18M   NaN    NaN   NaN    NaN     NaN    NaN     NaN   \n",
       "13        0.0589      18M   NaN    NaN   NaN    NaN     NaN    NaN     NaN   \n",
       "14        0.0843      18M   NaN    NaN   NaN    NaN     NaN    NaN     NaN   \n",
       "15        0.1481      18M   NaN    NaN   NaN    NaN     NaN    NaN     NaN   \n",
       "16        0.1770      18M   NaN    NaN   NaN    NaN     NaN    NaN     NaN   \n",
       "17        0.2006      18M   NaN    NaN   NaN    NaN     NaN    NaN     NaN   \n",
       "18        0.2853      18M   NaN    NaN   NaN    NaN     NaN    NaN     NaN   \n",
       "19        0.0074      18M  4.40   8.50  25.5  1.620   8.480  4.135  24.000   \n",
       "20        0.2624      18M   NaN    NaN   NaN    NaN     NaN    NaN     NaN   \n",
       "21        0.1032      18M   NaN    NaN   NaN    NaN     NaN    NaN     NaN   \n",
       "22        0.0036      18M  3.95  12.50   7.5  1.725   6.885  2.050  18.000   \n",
       "23        0.0026      18M  3.95  12.50   7.5  1.725   6.885  2.050  18.000   \n",
       "24        0.0040      18M  3.95  12.50   7.5  1.725   6.885  2.050  18.000   \n",
       "25        0.0058      18M   NaN    NaN   NaN    NaN     NaN    NaN     NaN   \n",
       "26        0.0560      18M   NaN    NaN   NaN    NaN     NaN    NaN     NaN   \n",
       "27        0.1174      18M   NaN    NaN   NaN    NaN     NaN    NaN     NaN   \n",
       "28        0.0783      18M   NaN    NaN   NaN    NaN     NaN    NaN     NaN   \n",
       "29        0.0567      18M  3.90   9.50   6.0  0.690   5.190  2.780  26.500   \n",
       "...          ...      ...   ...    ...   ...    ...     ...    ...     ...   \n",
       "6272      0.0023  Inverno  6.35   6.40   4.0  2.840  11.080  3.830  11.820   \n",
       "6273      0.0007  Inverno  6.35   6.40   4.0  2.840  11.080  3.830  11.820   \n",
       "6274      0.0020  Inverno  6.35   6.40   4.0  2.840  11.080  3.830  11.820   \n",
       "6275      0.0287  Inverno  5.80   7.75   2.0  3.750   8.145  5.150   9.180   \n",
       "6276      0.0417  Inverno  5.60   6.60   2.0  1.020   5.795  3.270  11.065   \n",
       "6277      0.0440  Inverno  6.65   7.65   2.0  4.490   4.515  4.065   8.835   \n",
       "6278      0.0209  Inverno  7.05   7.50   3.0  1.135   2.665  2.425  13.030   \n",
       "6279      0.0348  Inverno  5.60   6.60   2.0  1.020   5.795  3.270  11.065   \n",
       "6280      0.0107  Inverno  5.60   6.60   2.0  1.020   5.795  3.270  11.065   \n",
       "6281      0.0151  Inverno  5.60   6.60   2.0  1.020   5.795  3.270  11.065   \n",
       "6282      0.0157  Inverno  7.85   7.70   3.5  5.920  19.290  7.065  10.485   \n",
       "6283      0.0866  Inverno  7.05   8.00   4.0  2.300   2.935  2.450  14.735   \n",
       "6284      0.0108  Inverno  7.85   7.70   3.5  5.920  19.290  7.065  10.485   \n",
       "6285      0.0160  Inverno  7.85   7.70   3.5  5.920  19.290  7.065  10.485   \n",
       "6286      0.0092  Inverno  7.85   7.70   3.5  5.920  19.290  7.065  10.485   \n",
       "6287      0.0290  Inverno  5.90   8.35   2.5  2.660  12.105  4.010  10.125   \n",
       "6288      0.0080  Inverno  5.90   8.35   2.5  2.660  12.105  4.010  10.125   \n",
       "6289      0.0105  Inverno  7.90   6.40   3.0  1.875  19.840  9.905   8.150   \n",
       "6290      0.0150  Inverno  6.35   7.50   3.0  2.360  12.260  3.650  11.955   \n",
       "6291      0.0094  Inverno  7.35   9.45   2.0  2.320  32.585  9.300   8.510   \n",
       "6292      0.0096  Inverno  7.90   6.40   3.0  1.875  19.840  9.905   8.150   \n",
       "6293      0.0095  Inverno  7.90   6.40   3.0  1.875  19.840  9.905   8.150   \n",
       "6294      0.0040  Inverno  7.35   9.45   2.0  2.320  32.585  9.300   8.510   \n",
       "6295      0.0094  Inverno  7.35   9.45   2.0  2.320  32.585  9.300   8.510   \n",
       "6296      0.0069  Inverno  7.90   6.40   3.0  1.875  19.840  9.905   8.150   \n",
       "6297      0.0095  Inverno  7.90   6.40   3.0  1.875  19.840  9.905   8.150   \n",
       "6298      0.0064  Inverno  7.90   6.40   3.0  1.875  19.840  9.905   8.150   \n",
       "6299      0.0109  Inverno  7.35   9.45   2.0  2.320  32.585  9.300   8.510   \n",
       "6300      0.0274  Inverno  5.30   7.55   4.0  3.105   4.390  2.720   9.760   \n",
       "6301      0.0337  Inverno  5.95   6.45   2.0  1.300   1.745  0.800  14.540   \n",
       "\n",
       "          Al    S  CORR_T  \n",
       "0        NaN  NaN    0.00  \n",
       "1        NaN  NaN    0.00  \n",
       "2        NaN  NaN    0.00  \n",
       "3      1.440  0.0    0.47  \n",
       "4      1.515  0.0    0.33  \n",
       "5      1.515  0.0    0.32  \n",
       "6      0.580  0.0    0.32  \n",
       "7      0.580  0.0    0.32  \n",
       "8        NaN  NaN    0.00  \n",
       "9      2.590  0.0    3.92  \n",
       "10       NaN  NaN    0.00  \n",
       "11       NaN  NaN    0.00  \n",
       "12       NaN  NaN    0.00  \n",
       "13       NaN  NaN    0.00  \n",
       "14       NaN  NaN    0.00  \n",
       "15       NaN  NaN    0.00  \n",
       "16       NaN  NaN    0.00  \n",
       "17       NaN  NaN    0.00  \n",
       "18       NaN  NaN    0.00  \n",
       "19     2.590  0.0    2.98  \n",
       "20       NaN  NaN    0.00  \n",
       "21       NaN  NaN    0.00  \n",
       "22     3.480  0.0    1.47  \n",
       "23     3.480  0.0    1.47  \n",
       "24     3.480  0.0    1.47  \n",
       "25       NaN  NaN    0.00  \n",
       "26       NaN  NaN    0.00  \n",
       "27       NaN  NaN    0.00  \n",
       "28       NaN  NaN    0.00  \n",
       "29     4.070  0.0    2.00  \n",
       "...      ...  ...     ...  \n",
       "6272   3.085  0.0    0.00  \n",
       "6273   3.085  0.0    0.00  \n",
       "6274   3.085  0.0    0.00  \n",
       "6275   9.300  0.0    0.00  \n",
       "6276  10.645  0.0    0.00  \n",
       "6277  11.755  0.0    0.00  \n",
       "6278  12.525  0.0    0.00  \n",
       "6279  10.645  0.0    0.00  \n",
       "6280  10.645  0.0    0.00  \n",
       "6281  10.645  0.0    0.00  \n",
       "6282  12.240  0.0    0.00  \n",
       "6283  12.550  0.0    0.00  \n",
       "6284  12.240  0.0    0.00  \n",
       "6285  12.240  0.0    0.00  \n",
       "6286  12.240  0.0    0.00  \n",
       "6287   9.595  0.0    0.00  \n",
       "6288   9.595  0.0    0.00  \n",
       "6289   8.175  0.0    0.00  \n",
       "6290   9.525  0.0    0.00  \n",
       "6291   8.510  0.0    0.00  \n",
       "6292   8.175  0.0    0.00  \n",
       "6293   8.175  0.0    0.00  \n",
       "6294   8.510  0.0    0.00  \n",
       "6295   8.510  0.0    0.00  \n",
       "6296   8.175  0.0    0.00  \n",
       "6297   8.175  0.0    0.00  \n",
       "6298   8.175  0.0    0.00  \n",
       "6299   8.510  0.0    0.00  \n",
       "6300  10.780  0.0    0.00  \n",
       "6301  14.715  0.0    0.00  \n",
       "\n",
       "[6302 rows x 12 columns]"
      ]
     },
     "execution_count": 2,
     "metadata": {},
     "output_type": "execute_result"
    }
   ],
   "source": [
    "import pandas as pd\n",
    "import numpy as np\n",
    "from matplotlib import pyplot as plt\n",
    "\n",
    "att = ['Ciclo', 'Perc_Falha', 'Ph', 'Mo', 'P', 'K', 'Ca', 'Mg', 'H_al', 'Al', 'S', 'CORR_T']\n",
    "\n",
    "agro = pd.read_csv('agro.csv', usecols=att)\n",
    "agro"
   ]
  },
  {
   "cell_type": "markdown",
   "metadata": {},
   "source": [
    "### Questão 1)\n",
    "**Listar novamente as perguntas/hipóteses em sua versão final da prática anterior, listar quais colunas \n",
    "foram selecionadas. Se alguma pergunta já foi respondida com a análise anterior refine a questão de \n",
    "modo que você ache que as análises realizadas hoje ajudarão a responder.**\n",
    "\n",
    "As questões feitas na análise anterior foram:\n",
    "- A taxa de compostos químicos segue uma normal.\n",
    "- Durante o inverno, a quantidade de compostos cai. \n",
    "- Uma alta taxa de algum composto químico aumenta a taxa de falha da plantação.\n",
    "\n",
    "Colunas escolhidas:\n",
    "- Ciclo\n",
    "- Perc_Falha\n",
    "- Ph\n",
    "- Mo\n",
    "- P\n",
    "- K\n",
    "- Ca\n",
    "- Mg\n",
    "- H_al\n",
    "- Al\n",
    "- S\n",
    "- Corr_t\n",
    "\n",
    "A segunda questão acima foi mudada pela seguinte:\n",
    "- A quantidade de corretivo adicionado ao solo aumenta a chance de sucesso da colheita."
   ]
  },
  {
   "cell_type": "markdown",
   "metadata": {},
   "source": [
    "### Questão 2)\n",
    "**Plote os histograma dos atributos selecionados.\n",
    "Como você fez a escolha do parâmetro de intervalo (bin)? Por faixa (para altura, por exemplo, intervalo de 5cm), por quantidade (cada intervalo com tamanho 5, 0-5, 5-10, ...) ... ? Por que?**\n",
    "\n",
    "**O parâmetro bin pode ser complicado para ajustar corretamente e pode distorcer bastante o histograma. Uma regra prática é tentar garantir que cada intervalo tenha um número mínimo de exemplos, uns 30 em cada bin deve ser suficiente. Mesmo assim nos bins das pontas é difícil cumprir essa regra.\n",
    "Se achar interessante para sua análise, divida os dados de algum atributo e plote o histograma para cada\n",
    "parte sobreposto.**"
   ]
  },
  {
   "cell_type": "code",
   "execution_count": 5,
   "metadata": {},
   "outputs": [
    {
     "data": {
      "image/png": "[encoded data removed]",
      "text/plain": [
       "<Figure size 432x288 with 1 Axes>"
      ]
     },
     "metadata": {},
     "output_type": "display_data"
    },
    {
     "data": {
      "image/png": "[encoded data removed]",
      "text/plain": [
       "<Figure size 360x360 with 1 Axes>"
      ]
     },
     "metadata": {},
     "output_type": "display_data"
    },
    {
     "data": {
      "image/png": "[encoded data removed]",
      "text/plain": [
       "<Figure size 432x288 with 1 Axes>"
      ]
     },
     "metadata": {},
     "output_type": "display_data"
    },
    {
     "data": {
      "image/png": "[encoded data removed]",
      "text/plain": [
       "<Figure size 360x360 with 1 Axes>"
      ]
     },
     "metadata": {},
     "output_type": "display_data"
    },
    {
     "data": {
      "image/png": "[encoded data removed]",
      "text/plain": [
       "<Figure size 432x288 with 1 Axes>"
      ]
     },
     "metadata": {},
     "output_type": "display_data"
    },
    {
     "data": {
      "image/png": "[encoded data removed]",
      "text/plain": [
       "<Figure size 360x360 with 1 Axes>"
      ]
     },
     "metadata": {},
     "output_type": "display_data"
    },
    {
     "data": {
      "image/png": "[encoded data removed]",
      "text/plain": [
       "<Figure size 432x288 with 1 Axes>"
      ]
     },
     "metadata": {},
     "output_type": "display_data"
    },
    {
     "data": {
      "image/png": "[encoded data removed]",
      "text/plain": [
       "<Figure size 360x360 with 1 Axes>"
      ]
     },
     "metadata": {},
     "output_type": "display_data"
    },
    {
     "data": {
      "image/png": "[encoded data removed]",
      "text/plain": [
       "<Figure size 432x288 with 1 Axes>"
      ]
     },
     "metadata": {},
     "output_type": "display_data"
    },
    {
     "data": {
      "image/png": "[encoded data removed]",
      "text/plain": [
       "<Figure size 360x360 with 1 Axes>"
      ]
     },
     "metadata": {},
     "output_type": "display_data"
    },
    {
     "data": {
      "image/png": "[encoded data removed]",
      "text/plain": [
       "<Figure size 432x288 with 1 Axes>"
      ]
     },
     "metadata": {},
     "output_type": "display_data"
    },
    {
     "data": {
      "image/png": "[encoded data removed]",
      "text/plain": [
       "<Figure size 360x360 with 1 Axes>"
      ]
     },
     "metadata": {},
     "output_type": "display_data"
    },
    {
     "data": {
      "image/png": "[encoded data removed]",
      "text/plain": [
       "<Figure size 432x288 with 1 Axes>"
      ]
     },
     "metadata": {},
     "output_type": "display_data"
    },
    {
     "data": {
      "image/png": "[encoded data removed]",
      "text/plain": [
       "<Figure size 360x360 with 1 Axes>"
      ]
     },
     "metadata": {},
     "output_type": "display_data"
    },
    {
     "data": {
      "image/png": "[encoded data removed]",
      "text/plain": [
       "<Figure size 432x288 with 1 Axes>"
      ]
     },
     "metadata": {},
     "output_type": "display_data"
    },
    {
     "data": {
      "image/png": "[encoded data removed]",
      "text/plain": [
       "<Figure size 360x360 with 1 Axes>"
      ]
     },
     "metadata": {},
     "output_type": "display_data"
    },
    {
     "data": {
      "image/png": "[encoded data removed]",
      "text/plain": [
       "<Figure size 432x288 with 1 Axes>"
      ]
     },
     "metadata": {},
     "output_type": "display_data"
    },
    {
     "data": {
      "image/png": "[encoded data removed]",
      "text/plain": [
       "<Figure size 360x360 with 1 Axes>"
      ]
     },
     "metadata": {},
     "output_type": "display_data"
    },
    {
     "data": {
      "image/png": "[encoded data removed]",
      "text/plain": [
       "<Figure size 432x288 with 1 Axes>"
      ]
     },
     "metadata": {},
     "output_type": "display_data"
    },
    {
     "data": {
      "image/png": "[encoded data removed]",
      "text/plain": [
       "<Figure size 360x360 with 1 Axes>"
      ]
     },
     "metadata": {},
     "output_type": "display_data"
    }
   ],
   "source": [
    "import sys\n",
    "# Histogramas e Boxplots\n",
    "for i in [0,2,3,4,5,6,7,8,9,11]:\n",
    "    plt.hist(agro.dropna().iloc[:, i], bins='auto')\n",
    "    plt.title(agro.columns[i])\n",
    "    plt.show()\n",
    "\n",
    "    agro.boxplot(column=agro.columns[i], rot=45, figsize=(5, 5), sym='', return_type='dict')\n",
    "    plt.title(agro.columns[i])\n",
    "    plt.show()"
   ]
  },
  {
   "cell_type": "markdown",
   "metadata": {},
   "source": [
    "Assim como na base de dados anterior, decidimos deixar o atributo bins com o valor *auto* com objetivo de ter menos poluição visual no código. Abaixo temos alguns experimentos usando a variação de valores do parâmetro bins."
   ]
  },
  {
   "cell_type": "code",
   "execution_count": 6,
   "metadata": {},
   "outputs": [
    {
     "data": {
      "image/png": "[encoded data removed]",
      "text/plain": [
       "<Figure size 432x288 with 1 Axes>"
      ]
     },
     "metadata": {},
     "output_type": "display_data"
    }
   ],
   "source": [
    "plt.hist(agro.dropna().iloc[:, 0], bins=80)\n",
    "plt.title(\"Perc_Falha\")\n",
    "plt.show()"
   ]
  },
  {
   "cell_type": "markdown",
   "metadata": {},
   "source": [
    "Como o número de instâncias é consideravelmente grande e o atributo \"Perc_Falha\" possui 4 casas de precisão, um número maior de intervalos é mais interessante para a visualização pois ele se ajusta melhor para as pequenas variações de valor que existem nos atributos. O exemplo com valor 80 se aproximou muito do valor selecionado automaticamente."
   ]
  },
  {
   "cell_type": "code",
   "execution_count": 7,
   "metadata": {},
   "outputs": [
    {
     "data": {
      "image/png": "[encoded data removed]",
      "text/plain": [
       "<Figure size 432x288 with 1 Axes>"
      ]
     },
     "metadata": {},
     "output_type": "display_data"
    }
   ],
   "source": [
    "plt.hist(agro.dropna().iloc[:, 2], bins=25)\n",
    "plt.title(\"Ph\")\n",
    "plt.show()"
   ]
  },
  {
   "cell_type": "markdown",
   "metadata": {},
   "source": [
    "Como o valor de ph não possui grande variação de valores, foi testado um valor menor no número de intervalos em comparação com o exemplo anterior (atributo Perc_Falha), porém, nesse caso a visualização não foi tão boa pela maior agromeração de classes em uma mesma faixa."
   ]
  },
  {
   "cell_type": "markdown",
   "metadata": {},
   "source": [
    "**Explique a relação do histograma com o boxplot, o que um mostra que o outro não? Como é possível inferir um do outro? Sugestão: plotar um boxplot e um histograma de um mesmo atributo pode ajudar a entender e responder a pergunta.**"
   ]
  },
  {
   "cell_type": "markdown",
   "metadata": {},
   "source": [
    "Para responder a essa pergunta vamos analisar o atributo \"Al\", que descreve a presença do composto químico Alumínio no solo."
   ]
  },
  {
   "cell_type": "code",
   "execution_count": 8,
   "metadata": {},
   "outputs": [
    {
     "data": {
      "image/png": "[encoded data removed]",
      "text/plain": [
       "<Figure size 432x288 with 1 Axes>"
      ]
     },
     "metadata": {},
     "output_type": "display_data"
    },
    {
     "data": {
      "image/png": "[encoded data removed]",
      "text/plain": [
       "<Figure size 432x288 with 1 Axes>"
      ]
     },
     "metadata": {},
     "output_type": "display_data"
    }
   ],
   "source": [
    "col = 9\n",
    "plt.hist(agro.iloc[:, col].dropna(), bins='auto')\n",
    "plt.title(agro.columns[col])\n",
    "plt.show()\n",
    "\n",
    "plt.boxplot(agro.iloc[:, col].dropna(), vert=False)\n",
    "plt.title(agro.columns[col])\n",
    "plt.show()"
   ]
  },
  {
   "cell_type": "markdown",
   "metadata": {},
   "source": [
    "Nesse exemplo fica claro a importância do uso do boxplot para a análise de outliers, pois com a análise do histograma para essa característica não fica tão evidente a presença desses valores discrepantes. \n",
    "Além disso pode ser observado que os valores desse atributo tendem à esqueda do gráfico e isso pode ser visto tanto no histograma quanto no boxplot.\n",
    "Outro ponto é que o histograma permite uma melhor visualização de como é o comportamento da curva relacionada ao atributo analisado."
   ]
  },
  {
   "cell_type": "markdown",
   "metadata": {},
   "source": [
    "### Questão 3)\n",
    "**Execute a covariância e a correlação entre os atributos selecionados. No seu caso, qual das duas é mais informativa? Explique.**\n",
    "\n",
    "**Qual a diferença entre as duas e quando é mais indicado utilizar uma ao invés da outra?**\n",
    "\n",
    "**De que forma elas ajudam, se é que ajudam, a responder suas perguntas?**"
   ]
  },
  {
   "cell_type": "code",
   "execution_count": 9,
   "metadata": {
    "scrolled": true
   },
   "outputs": [
    {
     "data": {
      "image/png": "[encoded data removed]",
      "text/plain": [
       "<Figure size 432x288 with 2 Axes>"
      ]
     },
     "metadata": {},
     "output_type": "display_data"
    },
    {
     "name": "stdout",
     "output_type": "stream",
     "text": [
      "            Perc_Falha        Ph         Mo            P          K  \\\n",
      "Perc_Falha    0.007472  0.000084   0.047463     0.129768  -0.000801   \n",
      "Ph            0.000084  0.655641  -0.298049     4.950617   0.327666   \n",
      "Mo            0.047463 -0.298049  74.395736    43.720932   6.659704   \n",
      "P             0.129768  4.950617  43.720932  1233.971593  22.352316   \n",
      "K            -0.000801  0.327666   6.659704    22.352316   7.214848   \n",
      "Ca            0.145930  4.935197  83.762276   244.204530  22.348414   \n",
      "Mg            0.098066  2.391958  35.661314    85.854806   9.493792   \n",
      "H_al          0.007824 -4.197767  42.794274   -20.439567   1.461318   \n",
      "Al           -0.013537 -0.433996  -2.683709   -13.470036  -0.650560   \n",
      "S             0.000821  0.036291  -0.643913     0.101359  -0.145125   \n",
      "CORR_T        0.001549 -0.044769   0.109847    -1.076436  -0.125848   \n",
      "\n",
      "                    Ca          Mg        H_al         Al         S    CORR_T  \n",
      "Perc_Falha    0.145930    0.098066    0.007824  -0.013537  0.000821  0.001549  \n",
      "Ph            4.935197    2.391958   -4.197767  -0.433996  0.036291 -0.044769  \n",
      "Mo           83.762276   35.661314   42.794274  -2.683709 -0.643913  0.109847  \n",
      "P           244.204530   85.854806  -20.439567 -13.470036  0.101359 -1.076436  \n",
      "K            22.348414    9.493792    1.461318  -0.650560 -0.145125 -0.125848  \n",
      "Ca          407.741230  189.066162   20.286567 -11.198835  0.682118 -0.875834  \n",
      "Mg          189.066162  265.966283    5.608411  -4.282980  0.355112 -0.422782  \n",
      "H_al         20.286567    5.608411  156.949336  34.547655  0.055942  0.400039  \n",
      "Al          -11.198835   -4.282980   34.547655  21.632552 -0.090786  0.018384  \n",
      "S             0.682118    0.355112    0.055942  -0.090786  1.100136  0.035663  \n",
      "CORR_T       -0.875834   -0.422782    0.400039   0.018384  0.035663  0.352697  \n"
     ]
    },
    {
     "data": {
      "image/png": "[encoded data removed]",
      "text/plain": [
       "<Figure size 432x288 with 2 Axes>"
      ]
     },
     "metadata": {},
     "output_type": "display_data"
    },
    {
     "name": "stdout",
     "output_type": "stream",
     "text": [
      "            Perc_Falha        Ph        Mo         P         K        Ca  \\\n",
      "Perc_Falha    1.000000  0.001197  0.063660  0.042737 -0.003448  0.083607   \n",
      "Ph            0.001197  1.000000 -0.042676  0.174050  0.150655  0.301842   \n",
      "Mo            0.063660 -0.042676  1.000000  0.144299  0.287453  0.480930   \n",
      "P             0.042737  0.174050  0.144299  1.000000  0.236895  0.344278   \n",
      "K            -0.003448  0.150655  0.287453  0.236895  1.000000  0.412041   \n",
      "Ca            0.083607  0.301842  0.480930  0.344278  0.412041  1.000000   \n",
      "Mg            0.069565  0.181137  0.253519  0.149864  0.216727  0.574127   \n",
      "H_al          0.007225 -0.413814  0.396033 -0.046445  0.043426  0.080193   \n",
      "Al           -0.033671 -0.115239 -0.066897 -0.082445 -0.052074 -0.119241   \n",
      "S             0.009055  0.042731 -0.071175  0.002751 -0.051512  0.032207   \n",
      "CORR_T        0.030167 -0.093099  0.021444 -0.051598 -0.078892 -0.073035   \n",
      "\n",
      "                  Mg      H_al        Al         S    CORR_T  \n",
      "Perc_Falha  0.069565  0.007225 -0.033671  0.009055  0.030167  \n",
      "Ph          0.181137 -0.413814 -0.115239  0.042731 -0.093099  \n",
      "Mo          0.253519  0.396033 -0.066897 -0.071175  0.021444  \n",
      "P           0.149864 -0.046445 -0.082445  0.002751 -0.051598  \n",
      "K           0.216727  0.043426 -0.052074 -0.051512 -0.078892  \n",
      "Ca          0.574127  0.080193 -0.119241  0.032207 -0.073035  \n",
      "Mg          1.000000  0.027450 -0.056465  0.020760 -0.043652  \n",
      "H_al        0.027450  1.000000  0.592905  0.004257  0.053768  \n",
      "Al         -0.056465  0.592905  1.000000 -0.018610  0.006655  \n",
      "S           0.020760  0.004257 -0.018610  1.000000  0.057253  \n",
      "CORR_T     -0.043652  0.053768  0.006655  0.057253  1.000000  \n"
     ]
    }
   ],
   "source": [
    "import seaborn as sns\n",
    "\n",
    "cov = agro.dropna().cov()\n",
    "sns.heatmap(cov)\n",
    "plt.title(\"Covariance\")\n",
    "plt.show()\n",
    "print(cov)\n",
    "\n",
    "corr = agro.dropna().corr()\n",
    "sns.heatmap(corr)\n",
    "plt.title(\"Correlation\")\n",
    "plt.show()\n",
    "print(corr)"
   ]
  },
  {
   "cell_type": "markdown",
   "metadata": {},
   "source": []
  },
  {
   "cell_type": "markdown",
   "metadata": {},
   "source": [
    "Na análise de covariância nada pode ser afirmado, uma vez que os valores de covariância estão muito próximos de zero, como pode ser visto no mapa de calor, acima.\n",
    "\n",
    "Para a correlação existem 2 pontos a serem destacados:\n",
    "\n",
    "1. Existe uma correlação considerável entre os atributos H_al e o PH do solo. Segundo algumas pesquisas realizadas, existe uma relação diretamente proporcional entre a presença desses elementos, hidrogênio e alumínio, como pode ser visto em [1], porém, como a base de dados não descreve com precisão o que seria o atributo \"H_al\", nada pode ser concluído.\n",
    "\n",
    "2. Existem duas outras correlações interessantes entre os atributos:\n",
    "    * a) Ca e Mg: \n",
    "        Existe uma proporção ideal entre cálcio (Ca) e Magnésio (Mg) no solo descritos por diversas fontes como em [2], e isso pode ser confirmado pelo mapa acima.\n",
    "    * b) H_al e Al:\n",
    "        Essa correlação pode ser considerada óbvia pois a presença de alumínio (Al) está sendo considerada em ambos os atributos.\n",
    "            \n",
    "Dessa forma, a análise de correlação é mais efetiva por prover mais informações para essa base de dados.\n",
    "\n",
    "\n",
    "\n",
    "\n",
    "[1] - MARCONATO, José Carlos; FRANCHETTI, Sandra Mara Martins; PEDRO, Roberto José. A hidrólise de cátions metálicos no contexto da fertilidade dos solos. Departamento de Bioquímica e Microbiologia – IB – UNESP – Rio Claro SP. Disponível em: <http://sec.sbq.org.br/cdrom/29ra/resumos/T0072-1.pdf>. Acesso em: 19 set. 2018.\n",
    "\n",
    "[2] - KOPITTKE, P. M.; MENZIES, N. W. A Review of the Use of the Basic Cation Saturation Ratio and the “Ideal” Soil. *Soil Science Society of America Journal*, Queensland, Austrália, v. 71, n. 2, p. 259-265, 2007"
   ]
  },
  {
   "cell_type": "markdown",
   "metadata": {},
   "source": [
    "### Questão 4)\n",
    "**Gere em um único gráfico os scatter plots dos atributos selecionados, como no slide. Mude a cor dos exemplos de maneira a ajudar na interpretação do problema e a responder suas perguntas.**\n",
    "\n",
    "**Por exemplo, no iris se colorir os exemplos por classe é possível ver que a classe setosa não tem sobreposição com as outras duas para dois dos scatter plots.**\n",
    "\n",
    "**Além da separação entre classes, o scatter plot permite uma inspeção visual rápida de grupos (clusters).**"
   ]
  },
  {
   "cell_type": "markdown",
   "metadata": {},
   "source": [
    "Como os atributos analisados são contínuos, o scatter plot não pôde ser construído."
   ]
  },
  {
   "cell_type": "markdown",
   "metadata": {},
   "source": [
    "### Questão 5)\n",
    "**Explique como os gráficos permitem uma inspeção mais fácil e intuitiva de tendências, padrões e outliers? Se achar mais fácil use exemplos já explorados mas refaça os gráficos aqui para ilustrar seu ponto.**"
   ]
  },
  {
   "cell_type": "code",
   "execution_count": 10,
   "metadata": {},
   "outputs": [
    {
     "data": {
      "image/png": "[encoded data removed]",
      "text/plain": [
       "<Figure size 432x288 with 1 Axes>"
      ]
     },
     "metadata": {},
     "output_type": "display_data"
    },
    {
     "data": {
      "image/png": "[encoded data removed]",
      "text/plain": [
       "<Figure size 432x360 with 1 Axes>"
      ]
     },
     "metadata": {},
     "output_type": "display_data"
    }
   ],
   "source": [
    "plt.hist(agro.iloc[:, 9].dropna(), bins='auto')\n",
    "plt.title(agro.columns[9])\n",
    "plt.show()\n",
    "\n",
    "agro.boxplot(column=agro.columns[9], figsize=(6, 5), vert=False, return_type='dict')\n",
    "plt.title(agro.columns[9])\n",
    "plt.show()"
   ]
  },
  {
   "cell_type": "markdown",
   "metadata": {},
   "source": [
    "Assim como visto na questão 2, a análise de dados por meio de histogramas e boxplots são muito vantajosas quando queremos analisar o comportamento, o \"desenho\" da função para o atributo e a presença de outliers na amostra, respectivamente. \n",
    "Essas representações combinadas são poderosas fontes de informação."
   ]
  },
  {
   "cell_type": "markdown",
   "metadata": {},
   "source": [
    "### Questão 6)\n",
    "**Após a análise exploratória reanalise as hipóteses/questões e comente se elas já podem ser respondidas, se elas não fazem mais sentido, eventualmente se elas podem ser reformuladas.**"
   ]
  },
  {
   "cell_type": "markdown",
   "metadata": {},
   "source": [
    "1. A taxa de compostos químicos segue uma normal.\n",
    "    * Já foi respondido anteriormente, e esses atributos não seguem uma normal.\n",
    "    \n",
    "2. A quantidade de corretivo adicionado ao solo aumenta a chance de sucesso da colheita.\n",
    "    * A análise multivariada mostra que não houve relação entre a quantidade de corretivo e a chance de sucesso, pois as correlações estão próximas de 0.\n",
    "\n",
    "3. Uma alta taxa de algum composto químico aumenta a taxa de falha da plantação.\n",
    "    * Falso, para os atributos estudados nesse momento não é vista covariância/correlação suficiente para dizer que a presença de algum composto químico no solo está relacionada à taxa de falha.\n",
    "    \n",
    "    \n",
    "Algumas questões podem ser levantadas para análises futuras, como:\n",
    "- A acidez do solo, que pode estar relacionada com o atributo H_al, pode influenciar no sucesso ou fracasso de um plantio.\n",
    "- A proporção Ca:Mg pode influenciar diretamente no sucesso de um plantio."
   ]
  },
  {
   "cell_type": "code",
   "execution_count": null,
   "metadata": {},
   "outputs": [],
   "source": []
  }
 ],
 "metadata": {
  "kernelspec": {
   "display_name": "Python 3",
   "language": "python",
   "name": "python3"
  },
  "language_info": {
   "codemirror_mode": {
    "name": "ipython",
    "version": 3
   },
   "file_extension": ".py",
   "mimetype": "text/x-python",
   "name": "python",
   "nbconvert_exporter": "python",
   "pygments_lexer": "ipython3",
   "version": "3.6.5"
  }
 },
 "nbformat": 4,
 "nbformat_minor": 2
}
