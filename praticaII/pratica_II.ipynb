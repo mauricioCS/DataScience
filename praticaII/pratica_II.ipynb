{
 "cells": [
  {
   "cell_type": "markdown",
   "metadata": {},
   "source": [
    "<h1>Prática II</h1>\n",
    "<h3>Eduardo Garcia Misiuk - 9293230<br>\n",
    "Mauricio Caetano da Silva - 9040996</h3>"
   ]
  },
  {
   "cell_type": "markdown",
   "metadata": {},
   "source": [
    "<h3>Datasets escolhidos: Titanic e Instituições de Ensino Básico</h3>\n",
    "<br></br>\n",
    "<h3>Titanic</h3>\n",
    "\n",
    "<h4>1. Hipóteses</h4>\n",
    "        a. A classe de passagem influenciou na sobrevivência das pessoas?\n",
    "        b. O gênero das pessoas influenciou na chance delas sobreviverem?\n",
    "        c. A faixa de idade das pessoas foi um fator determinante para sua sobrevivência? (independentemente de gênero)     "
   ]
  },
  {
   "cell_type": "markdown",
   "metadata": {},
   "source": [
    "2) Atributos\n",
    "\n",
    "            A) Tipo de passagem (Pclass)\n",
    "                Tipo de dado: Numérico racional discreto\n",
    "                Operações: Média, moda, mediana.\n",
    "                \n",
    "            B) Gênero (Gender)\n",
    "                Tipo de dado: Simbólico nominal\n",
    "                Operações: Moda.\n",
    "                \n",
    "            C) Idade (Age)\n",
    "                Tipo de dado: Numérico racional contínuo\n",
    "                Operações: Média, moda, mediana.\n",
    "                \n",
    "            D) Parentes a bordo (SibSp)\n",
    "                Tipo de dado: Numérico racional discreto\n",
    "                Operações: Média, moda, mediana.  \n",
    "                \n",
    "            E) Tarifa (Fare)\n",
    "                Tipo de dado: Numérico racional contínuo\n",
    "                Operações: Média, moda, mediana."
   ]
  }
 ],
 "metadata": {
  "kernelspec": {
   "display_name": "Python 3",
   "language": "python",
   "name": "python3"
  },
  "language_info": {
   "codemirror_mode": {
    "name": "ipython",
    "version": 3
   },
   "file_extension": ".py",
   "mimetype": "text/x-python",
   "name": "python",
   "nbconvert_exporter": "python",
   "pygments_lexer": "ipython3",
   "version": "3.5.2"
  }
 },
 "nbformat": 4,
 "nbformat_minor": 2
}
